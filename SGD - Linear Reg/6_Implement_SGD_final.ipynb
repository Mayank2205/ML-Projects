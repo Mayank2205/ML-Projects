{
 "cells": [
  {
   "cell_type": "markdown",
   "metadata": {
    "colab_type": "text",
    "id": "nrw5k7MKJFkW"
   },
   "source": [
    "# Boston house prices dataset"
   ]
  },
  {
   "cell_type": "markdown",
   "metadata": {
    "colab_type": "text",
    "id": "BBHWywqsHxOI"
   },
   "source": [
    "\n",
    "\n",
    "**Data Set Characteristics:**  \n",
    "\n",
    "    :Number of Instances: 506 \n",
    "\n",
    "    :Number of Attributes: 13 numeric/categorical predictive. Median Value (attribute 14) is usually the target.\n",
    "\n",
    "    :Attribute Information (in order):\n",
    "        - CRIM     per capita crime rate by town\n",
    "        - ZN       proportion of residential land zoned for lots over 25,000 sq.ft.\n",
    "        - INDUS    proportion of non-retail business acres per town\n",
    "        - CHAS     Charles River dummy variable (= 1 if tract bounds river; 0 otherwise)\n",
    "        - NOX      nitric oxides concentration (parts per 10 million)\n",
    "        - RM       average number of rooms per dwelling\n",
    "        - AGE      proportion of owner-occupied units built prior to 1940\n",
    "        - DIS      weighted distances to five Boston employment centres\n",
    "        - RAD      index of accessibility to radial highways\n",
    "        - TAX      full-value property-tax rate per $10,000\n",
    "        - PTRATIO  pupil-teacher ratio by town\n",
    "        - B        1000(Bk - 0.63)^2 where Bk is the proportion of blacks by town\n",
    "        - LSTAT    % lower status of the population\n",
    "        - MEDV     Median value of owner-occupied homes in $1000's\n",
    "\n",
    "    :Missing Attribute Values: None\n",
    "\n",
    "    :Creator: Harrison, D. and Rubinfeld, D.L.\n",
    "\n",
    "This is a copy of UCI ML housing dataset.\n",
    "https://archive.ics.uci.edu/ml/machine-learning-databases/housing/\n",
    "\n",
    "\n",
    "This dataset was taken from the StatLib library which is maintained at Carnegie Mellon University.\n",
    "\n",
    "The Boston house-price data of Harrison, D. and Rubinfeld, D.L. 'Hedonic\n",
    "prices and the demand for clean air', J. Environ. Economics & Management,\n",
    "vol.5, 81-102, 1978.   Used in Belsley, Kuh & Welsch, 'Regression diagnostics\n",
    "...', Wiley, 1980.   N.B. Various transformations are used in the table on\n",
    "pages 244-261 of the latter.\n",
    "\n",
    "The Boston house-price data has been used in many machine learning papers that address regression\n",
    "problems.   \n",
    "     \n",
    ".. topic:: References\n",
    "\n",
    "   - Belsley, Kuh & Welsch, 'Regression diagnostics: Identifying Influential Data and Sources of Collinearity', Wiley, 1980. 244-261.\n",
    "   - Quinlan,R. (1993). Combining Instance-Based and Model-Based Learning. In Proceedings on the Tenth International Conference of Machine Learning, 236-243, University of Massachusetts, Amherst. Morgan Kaufmann.\n"
   ]
  },
  {
   "cell_type": "code",
   "execution_count": 1,
   "metadata": {
    "colab": {},
    "colab_type": "code",
    "id": "REYPoTJ1Af7u"
   },
   "outputs": [],
   "source": [
    "import warnings\n",
    "warnings.filterwarnings(\"ignore\")\n",
    "from sklearn.datasets import load_boston\n",
    "from random import seed\n",
    "from random import randrange\n",
    "from csv import reader\n",
    "from math import sqrt\n",
    "from sklearn import preprocessing\n",
    "import pandas as pd\n",
    "import numpy as np\n",
    "import matplotlib.pyplot as plt\n",
    "from prettytable import PrettyTable\n",
    "from sklearn.linear_model import SGDRegressor\n",
    "from sklearn import preprocessing\n",
    "from sklearn.metrics import mean_squared_error"
   ]
  },
  {
   "cell_type": "code",
   "execution_count": 2,
   "metadata": {
    "colab": {
     "base_uri": "https://localhost:8080/",
     "height": 35
    },
    "colab_type": "code",
    "executionInfo": {
     "elapsed": 865,
     "status": "ok",
     "timestamp": 1558868090293,
     "user": {
      "displayName": "chaithanya varma",
      "photoUrl": "https://lh6.googleusercontent.com/-FgHxx6sYCM0/AAAAAAAAAAI/AAAAAAAAAfM/GcEgdHpkmuQ/s64/photo.jpg",
      "userId": "17807284662864406157"
     },
     "user_tz": -330
    },
    "id": "NTQ2iH-kAwbo",
    "outputId": "0f155118-cf40-4ae5-aa1d-31811ffb6358"
   },
   "outputs": [
    {
     "name": "stdout",
     "output_type": "stream",
     "text": [
      "(506, 13) <class 'numpy.ndarray'>\n"
     ]
    }
   ],
   "source": [
    "X = load_boston().data #13 attributes\n",
    "Y = load_boston().target #Median value of houses in $1000s\n",
    "\n",
    "print(X.shape, type(X))"
   ]
  },
  {
   "cell_type": "code",
   "execution_count": 3,
   "metadata": {
    "colab": {},
    "colab_type": "code",
    "id": "PSqt7Sp7Uge0"
   },
   "outputs": [
    {
     "name": "stdout",
     "output_type": "stream",
     "text": [
      "(404, 14) (102, 14)\n"
     ]
    }
   ],
   "source": [
    "#Splitting data into test and train\n",
    "\n",
    "from sklearn.model_selection  import train_test_split\n",
    "\n",
    "X_tr, X_te, Y_tr, Y_te = train_test_split(X, Y, test_size=0.2)\n",
    "\n",
    "#To standardize all the values\n",
    "\n",
    "scaler = preprocessing.StandardScaler().fit(X_tr)\n",
    "X_tr = scaler.transform(X_tr)\n",
    "X_te = scaler.transform(X_te)\n",
    "\n",
    "X_tr_df, X_te_df, Y_tr_df, Y_te_df = pd.DataFrame(X_tr), pd.DataFrame(X_te), pd.DataFrame(Y_tr), pd.DataFrame(Y_te)\n",
    "\n",
    "X_tr_df['price'] = Y_tr_df\n",
    "X_te_df['price'] = Y_te_df\n",
    "\n",
    "print(X_tr_df.shape,X_te_df.shape)"
   ]
  },
  {
   "cell_type": "code",
   "execution_count": 116,
   "metadata": {
    "colab": {},
    "colab_type": "code",
    "id": "lrFcEhuQ_hcX"
   },
   "outputs": [
    {
     "name": "stdout",
     "output_type": "stream",
     "text": [
      "0.0045 [-0.44167749  0.33863738 -0.47145809  1.06505148 -1.73331528  3.07855926\n",
      " -0.73405378 -2.7115719   1.83819477 -0.76396379 -1.66435506  1.1062958\n",
      " -2.85385071] 22.703796472945\n"
     ]
    }
   ],
   "source": [
    "#https://towardsdatascience.com/difference-between-batch-gradient-descent-and-stochastic-gradient-descent-1187f1291aa1\n",
    "#https://michael-learn-to-code.github.io/some-kinds-of-gradient-descent/\n",
    "#https://www.shanelynn.ie/using-pandas-dataframe-creating-editing-viewing-data-in-python/\n",
    "\n",
    "# W - weight vector\n",
    "# r - learning rate \n",
    "# k - size of random samples\n",
    "# B - intercept\n",
    "# n_iter - No. of iterations\n",
    "\n",
    "W,B,n_iter,r,k=np.zeros(shape=(1,13)),0,1000,0.0045,30\n",
    "W = np.concatenate(W,axis=0)\n",
    "\n",
    "for i in range(n_iter):  \n",
    "    prev_w, prev_b = W, B #Storing the values of W and B from previous iteration\n",
    "    dl_dw, dl_db = np.zeros(shape=(1,13)),0 #Initialising dl_dw and dl_db to zeros for each sample\n",
    "\n",
    "    sample = X_tr_df.sample(k) #Picking random sample of size k for each iteration (includes both X_tr and Y_tr)\n",
    "\n",
    "    y = np.array(sample['price'])\n",
    "    x = np.array(sample.drop(columns='price')) #Convering values of X train to array\n",
    "\n",
    "    for j in range(k):\n",
    "        dot_product = np.dot(prev_w,x[j])\n",
    "        dl_dw += x[j] * (y[j] - (dot_product) + prev_b) # dl/dw = summation from 1 to n(X*(Y-W.T*X-b))\n",
    "        dl_db += y[j] - (np.dot(prev_w,x[j]) + prev_b) # dl/db = summation from 1 to n(Y-W.T*X-b)\n",
    "\n",
    "    #reducing error and decreasing r after each iteration\n",
    "    W = (prev_w - r*-2*((dl_dw)/k)) #W(j+1) = W(j) - r*2*(dl/dw)/k\n",
    "    W=np.concatenate(W,axis=0)\n",
    "    B = (prev_b - r*-2*((dl_db)/k)) #B(j+1) = B(j) - r*2*(dl/db)/k\n",
    "print(r,W,B)"
   ]
  },
  {
   "cell_type": "code",
   "execution_count": 117,
   "metadata": {
    "colab": {
     "base_uri": "https://localhost:8080/",
     "height": 55
    },
    "colab_type": "code",
    "executionInfo": {
     "elapsed": 929,
     "status": "ok",
     "timestamp": 1558883210726,
     "user": {
      "displayName": "chaithanya varma",
      "photoUrl": "https://lh6.googleusercontent.com/-FgHxx6sYCM0/AAAAAAAAAAI/AAAAAAAAAfM/GcEgdHpkmuQ/s64/photo.jpg",
      "userId": "17807284662864406157"
     },
     "user_tz": -330
    },
    "id": "0Wp44myo2QBE",
    "outputId": "867eb89a-72a7-4c97-8113-24f34ea25482"
   },
   "outputs": [
    {
     "name": "stdout",
     "output_type": "stream",
     "text": [
      "[23.16985742538692, 12.925326427215989, 35.71356703432434, 44.141015102859015, 18.11650694900939]\n",
      "[19.3 12.  33.1 50.  20.5]\n"
     ]
    }
   ],
   "source": [
    "# Y predctions from manual SGD\n",
    "#https://stackoverflow.com/questions/27516849/how-to-convert-list-of-numpy-arrays-into-single-numpy-array\n",
    "\n",
    "Y_manual = []\n",
    "\n",
    "for i in range(len(X_te)):\n",
    "    Y_manual.append(np.dot(W,X_te[i])+B)\n",
    "print(Y_manual[:5])\n",
    "print(Y_te[:5])"
   ]
  },
  {
   "cell_type": "code",
   "execution_count": 118,
   "metadata": {
    "colab": {
     "base_uri": "https://localhost:8080/",
     "height": 295
    },
    "colab_type": "code",
    "executionInfo": {
     "elapsed": 950,
     "status": "ok",
     "timestamp": 1558883213005,
     "user": {
      "displayName": "chaithanya varma",
      "photoUrl": "https://lh6.googleusercontent.com/-FgHxx6sYCM0/AAAAAAAAAAI/AAAAAAAAAfM/GcEgdHpkmuQ/s64/photo.jpg",
      "userId": "17807284662864406157"
     },
     "user_tz": -330
    },
    "id": "9oP9Tq8fHenh",
    "outputId": "eaee3381-8b4e-44a1-d1c3-05dfc8c38a3c"
   },
   "outputs": [
    {
     "data": {
      "image/png": "[encoded data removed]",
      "text/plain": [
       "<Figure size 432x288 with 1 Axes>"
      ]
     },
     "metadata": {
      "needs_background": "light"
     },
     "output_type": "display_data"
    }
   ],
   "source": [
    "#https://pythonspot.com/matplotlib-scatterplot/\n",
    "\n",
    "# Plot\n",
    "plt.scatter(Y_manual, Y_te)\n",
    "plt.title('Y Manual vs Y Actual')\n",
    "plt.xlabel('Manual SGD Y values')\n",
    "plt.ylabel('Actual Y values from D_Test')\n",
    "plt.show()"
   ]
  },
  {
   "cell_type": "code",
   "execution_count": 119,
   "metadata": {
    "colab": {
     "base_uri": "https://localhost:8080/",
     "height": 35
    },
    "colab_type": "code",
    "executionInfo": {
     "elapsed": 912,
     "status": "ok",
     "timestamp": 1558885291416,
     "user": {
      "displayName": "chaithanya varma",
      "photoUrl": "https://lh6.googleusercontent.com/-FgHxx6sYCM0/AAAAAAAAAAI/AAAAAAAAAfM/GcEgdHpkmuQ/s64/photo.jpg",
      "userId": "17807284662864406157"
     },
     "user_tz": -330
    },
    "id": "HNu1sXtEBBS2",
    "outputId": "e68c326f-4413-46f1-a0ab-57d8c2fe3675"
   },
   "outputs": [
    {
     "name": "stdout",
     "output_type": "stream",
     "text": [
      "[22.69504914]\n"
     ]
    }
   ],
   "source": [
    "#https://scikit-learn.org/stable/modules/generated/sklearn.linear_model.SGDRegressor.html\n",
    "\n",
    "Y_SGD=[]\n",
    "\n",
    "clf = SGDRegressor(max_iter=1000)\n",
    "clf.fit(X_tr,Y_tr)\n",
    "Y_SGD = clf.predict(X_te)\n",
    "\n",
    "print(clf.intercept_)\n",
    "#print(Y_SGD)"
   ]
  },
  {
   "cell_type": "code",
   "execution_count": 120,
   "metadata": {
    "colab": {
     "base_uri": "https://localhost:8080/",
     "height": 295
    },
    "colab_type": "code",
    "executionInfo": {
     "elapsed": 3222,
     "status": "ok",
     "timestamp": 1558800461130,
     "user": {
      "displayName": "chaithanya varma",
      "photoUrl": "https://lh6.googleusercontent.com/-FgHxx6sYCM0/AAAAAAAAAAI/AAAAAAAAAfM/GcEgdHpkmuQ/s64/photo.jpg",
      "userId": "17807284662864406157"
     },
     "user_tz": -330
    },
    "id": "FOeR4DxTPWyx",
    "outputId": "995effca-1970-4ba6-998f-3c053af92546"
   },
   "outputs": [
    {
     "data": {
      "image/png": "[encoded data removed]",
      "text/plain": [
       "<Figure size 432x288 with 1 Axes>"
      ]
     },
     "metadata": {
      "needs_background": "light"
     },
     "output_type": "display_data"
    }
   ],
   "source": [
    "#https://pythonspot.com/matplotlib-scatterplot/\n",
    "\n",
    "# Plot\n",
    "plt.scatter(Y_SGD, Y_te)\n",
    "plt.title('Y SGD vs Y Actual')\n",
    "plt.xlabel('Scikit SGD Y values')\n",
    "plt.ylabel('Actual Y values from D_Test')\n",
    "plt.show()"
   ]
  },
  {
   "cell_type": "code",
   "execution_count": 121,
   "metadata": {
    "colab": {
     "base_uri": "https://localhost:8080/",
     "height": 326
    },
    "colab_type": "code",
    "executionInfo": {
     "elapsed": 938,
     "status": "ok",
     "timestamp": 1558885351958,
     "user": {
      "displayName": "chaithanya varma",
      "photoUrl": "https://lh6.googleusercontent.com/-FgHxx6sYCM0/AAAAAAAAAAI/AAAAAAAAAfM/GcEgdHpkmuQ/s64/photo.jpg",
      "userId": "17807284662864406157"
     },
     "user_tz": -330
    },
    "id": "tNwmbUNlXkLx",
    "outputId": "1b1ea8eb-3eff-4a15-9b74-fceec43cb839"
   },
   "outputs": [
    {
     "name": "stdout",
     "output_type": "stream",
     "text": [
      "+----------------------------------+-----------------------------------+\n",
      "| Weights for Manual SGD Regressor | Weights for Scitkit SGD Regressor |\n",
      "+----------------------------------+-----------------------------------+\n",
      "|       -0.4416774865974886        |         -1.073508654986649        |\n",
      "|       0.33863738131367715        |         1.2522507002493217        |\n",
      "|       -0.47145808702408837       |        -0.07257111946888235       |\n",
      "|         1.06505147908031         |         0.662158232664378         |\n",
      "|       -1.7333152802779634        |        -1.8709712914492673        |\n",
      "|        3.0785592647158544        |         2.729169050105378         |\n",
      "|       -0.7340537769345403        |       -0.018870975532505666       |\n",
      "|       -2.7115718970423126        |         -3.447221364427166        |\n",
      "|        1.8381947737552546        |         2.9111698743964807        |\n",
      "|       -0.7639637943824229        |         -2.174519593392455        |\n",
      "|        -1.66435505999381         |        -1.7884135481130339        |\n",
      "|        1.1062957979951948        |         1.002229515649559         |\n",
      "|       -2.8538507095353505        |        -3.8858425900856224        |\n",
      "+----------------------------------+-----------------------------------+\n"
     ]
    }
   ],
   "source": [
    "#http://zetcode.com/python/prettytable/\n",
    "\n",
    "from prettytable import PrettyTable\n",
    "\n",
    "x = PrettyTable()\n",
    "\n",
    "x.field_names = [\"Weights for Manual SGD Regressor\", \"Weights for Scitkit SGD Regressor\"]\n",
    "\n",
    "for i in range(13):\n",
    "    x.add_row([W[i],clf.coef_[i]])\n",
    "\n",
    "print(x)"
   ]
  },
  {
   "cell_type": "code",
   "execution_count": 122,
   "metadata": {
    "colab": {
     "base_uri": "https://localhost:8080/",
     "height": 53
    },
    "colab_type": "code",
    "executionInfo": {
     "elapsed": 906,
     "status": "ok",
     "timestamp": 1558885363557,
     "user": {
      "displayName": "chaithanya varma",
      "photoUrl": "https://lh6.googleusercontent.com/-FgHxx6sYCM0/AAAAAAAAAAI/AAAAAAAAAfM/GcEgdHpkmuQ/s64/photo.jpg",
      "userId": "17807284662864406157"
     },
     "user_tz": -330
    },
    "id": "rPiyPMdBe151",
    "outputId": "0432336b-de46-4346-ffc9-c18ae58037cf"
   },
   "outputs": [
    {
     "name": "stdout",
     "output_type": "stream",
     "text": [
      "+-----------------------+--------------------+-----------------+\n",
      "|                       |        MSE         | Intercept value |\n",
      "+-----------------------+--------------------+-----------------+\n",
      "|  Manual SGD Regressor | 26.256921521069536 | 22.703796472945 |\n",
      "| Scitkit SGD Regressor | 26.379754854003263 |  [22.69504914]  |\n",
      "+-----------------------+--------------------+-----------------+\n"
     ]
    }
   ],
   "source": [
    "#https://scikit-learn.org/stable/modules/generated/sklearn.metrics.mean_squared_error.html\n",
    "\n",
    "MSE_Manual = mean_squared_error(Y_manual,Y_te)\n",
    "MSE_SGD = mean_squared_error(Y_SGD,Y_te)\n",
    "\n",
    "x = PrettyTable()\n",
    "x.field_names = [\"\", \"MSE\", \"Intercept value\"]\n",
    "x.add_row([\"Manual SGD Regressor\", MSE_Manual, B])\n",
    "x.add_row([\"Scitkit SGD Regressor\", MSE_SGD, clf.intercept_])\n",
    "print(x)"
   ]
  }
 ],
 "metadata": {
  "accelerator": "GPU",
  "colab": {
   "collapsed_sections": [],
   "name": "06 Implement SGD.ipynb",
   "provenance": [
    {
     "file_id": "1udhbqVBlrfOC16MyLZZkfyPdIXofs1D1",
     "timestamp": 1558628037711
    }
   ],
   "version": "0.3.2"
  },
  "kernelspec": {
   "display_name": "Python 3",
   "language": "python",
   "name": "python3"
  },
  "language_info": {
   "codemirror_mode": {
    "name": "ipython",
    "version": 3
   },
   "file_extension": ".py",
   "mimetype": "text/x-python",
   "name": "python",
   "nbconvert_exporter": "python",
   "pygments_lexer": "ipython3",
   "version": "3.7.0"
  }
 },
 "nbformat": 4,
 "nbformat_minor": 1
}
