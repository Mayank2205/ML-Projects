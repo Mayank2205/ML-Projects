{
 "cells": [
  {
   "cell_type": "markdown",
   "metadata": {
    "colab_type": "text",
    "id": "7LagyUv194qX"
   },
   "source": [
    "<h1><center>Quora question pair similarity</center></h1>"
   ]
  },
  {
   "cell_type": "markdown",
   "metadata": {
    "colab_type": "text",
    "id": "h16J8MWb94qg"
   },
   "source": [
    "<h1> 1) Data Overview</h1>\n",
    "\n",
    "<p> The dataset contains information on the question pairs from quora and their similarity classifications. The dataset contains 404k question pairs in rows and 6 columns. Below are the list of columns  and their descriptions:</p>\n",
    "    <ul>\n",
    "    <li>id - the id of a training set question pair</li>\n",
    "    <li>qid1, qid2 - unique ids of each question</li>\n",
    "    <li>question1, question2 - the full text of each question</li>\n",
    "    <li>is_duplicate - 1 if question1 and question2 are the same, and 0 otherwise.</li></ul>\n",
    "    \n",
    "<h2>Objective:</h2>\n",
    "<p>To predict if a given pair of questions have the same meaning or not.</p>\n"
   ]
  },
  {
   "cell_type": "code",
   "execution_count": 0,
   "metadata": {
    "colab": {},
    "colab_type": "code",
    "id": "6VXPfRp-tARR"
   },
   "outputs": [],
   "source": [
    "import pandas as pd\n",
    "import matplotlib.pyplot as plt\n",
    "import re\n",
    "import time\n",
    "import warnings\n",
    "import csv\n",
    "import os\n",
    "\n",
    "import datetime as dt\n",
    "import numpy as np\n",
    "from nltk.corpus import stopwords\n",
    "from sklearn.decomposition import TruncatedSVD\n",
    "from sklearn.preprocessing import normalize\n",
    "from sklearn.feature_extraction.text import CountVectorizer\n",
    "from sklearn.manifold import TSNE\n",
    "import seaborn as sns\n",
    "from sklearn.neighbors import KNeighborsClassifier\n",
    "from sklearn.metrics import confusion_matrix\n",
    "from sklearn.metrics.classification import accuracy_score, log_loss\n",
    "from sklearn.feature_extraction.text import TfidfVectorizer\n",
    "from collections import Counter\n",
    "from scipy.sparse import hstack\n",
    "from sklearn.multiclass import OneVsRestClassifier\n",
    "from sklearn.svm import SVC\n",
    "from collections import Counter, defaultdict\n",
    "from sklearn.calibration import CalibratedClassifierCV\n",
    "from sklearn.naive_bayes import MultinomialNB\n",
    "from sklearn.naive_bayes import GaussianNB\n",
    "from sklearn.model_selection import train_test_split\n",
    "from sklearn.model_selection import GridSearchCV\n",
    "import math\n",
    "from sklearn.metrics import normalized_mutual_info_score\n",
    "from sklearn.ensemble import RandomForestClassifier\n",
    "\n",
    "from sklearn.model_selection import cross_val_score\n",
    "from sklearn.linear_model import SGDClassifier\n",
    "\n",
    "from sklearn import model_selection\n",
    "from sklearn.linear_model import LogisticRegression\n",
    "from sklearn.metrics import precision_recall_curve, auc, roc_curve\n",
    "\n",
    "from nltk.corpus import stopwords\n",
    "from nltk.stem import PorterStemmer\n",
    "from bs4 import BeautifulSoup\n",
    "import re\n",
    "from nltk.corpus import stopwords\n",
    "\n",
    "from fuzzywuzzy import fuzz\n",
    "import distance\n",
    "\n",
    "warnings.filterwarnings(\"ignore\")\n",
    "\n",
    "import dill"
   ]
  },
  {
   "cell_type": "code",
   "execution_count": 2,
   "metadata": {
    "colab": {
     "base_uri": "https://localhost:8080/",
     "height": 35
    },
    "colab_type": "code",
    "id": "UudriqZz-JeX",
    "outputId": "c6567e76-883e-4c25-8d59-e13846600753"
   },
   "outputs": [
    {
     "name": "stdout",
     "output_type": "stream",
     "text": [
      "Mounted at /content/drive\n"
     ]
    }
   ],
   "source": [
    "from google.colab import drive\n",
    "drive.mount('/content/drive', force_remount=True)"
   ]
  },
  {
   "cell_type": "code",
   "execution_count": 3,
   "metadata": {
    "colab": {
     "base_uri": "https://localhost:8080/",
     "height": 53
    },
    "colab_type": "code",
    "id": "T1srE-jo94q2",
    "outputId": "82779ac6-e2ea-4c9a-bef0-704ae1d723ed"
   },
   "outputs": [
    {
     "name": "stdout",
     "output_type": "stream",
     "text": [
      "(404290, 6)\n",
      "Index(['id', 'qid1', 'qid2', 'question1', 'question2', 'is_duplicate'], dtype='object')\n"
     ]
    }
   ],
   "source": [
    "df=pd.read_csv('drive/My Drive/Colab Notebooks/train.csv')\n",
    "print(df.shape)\n",
    "print(df.columns)"
   ]
  },
  {
   "cell_type": "markdown",
   "metadata": {
    "colab_type": "text",
    "id": "ZihvUPvHtARd"
   },
   "source": [
    "<h1>2. Data preprocessing and Feature addition </h1>"
   ]
  },
  {
   "cell_type": "markdown",
   "metadata": {
    "colab_type": "text",
    "id": "nXtNuWJB94rO"
   },
   "source": [
    "### 2.1 Considering 100k datapoints"
   ]
  },
  {
   "cell_type": "code",
   "execution_count": 4,
   "metadata": {
    "colab": {
     "base_uri": "https://localhost:8080/",
     "height": 344
    },
    "colab_type": "code",
    "id": "C40lAEnf94rR",
    "outputId": "a0ec5c5b-ebcc-49f6-f90b-99db746e9db0"
   },
   "outputs": [
    {
     "name": "stdout",
     "output_type": "stream",
     "text": [
      "(149263, 6)\n",
      "(255027, 6)\n",
      "1    50000\n",
      "0    50000\n",
      "Name: is_duplicate, dtype: int64\n",
      "(100000, 6)\n",
      "<class 'pandas.core.frame.DataFrame'>\n",
      "Int64Index: 100000 entries, 5 to 79686\n",
      "Data columns (total 6 columns):\n",
      "id              100000 non-null int64\n",
      "qid1            100000 non-null int64\n",
      "qid2            100000 non-null int64\n",
      "question1       100000 non-null object\n",
      "question2       100000 non-null object\n",
      "is_duplicate    100000 non-null int64\n",
      "dtypes: int64(4), object(2)\n",
      "memory usage: 5.3+ MB\n",
      "None\n"
     ]
    }
   ],
   "source": [
    "project_data_1=df[df['is_duplicate']==1]\n",
    "project_data_0=df[df['is_duplicate']==0]\n",
    "\n",
    "print(project_data_1.shape)\n",
    "print(project_data_0.shape)\n",
    "\n",
    "#Creating a dataset of 0.2k points containg points from both the classes\n",
    "project_data = project_data_1[0:50000].append(project_data_0[0:50000])\n",
    "print(project_data['is_duplicate'].value_counts())\n",
    "print(project_data.shape)\n",
    "print(project_data.info())"
   ]
  },
  {
   "cell_type": "markdown",
   "metadata": {
    "colab_type": "text",
    "id": "gOvuchoh94rh"
   },
   "source": [
    "### Observation:\n",
    "- Considering 50k points from each class and storing in a single dataframe.\n",
    "- The dataset is now balanced as it has equal number of datapoints from each class."
   ]
  },
  {
   "cell_type": "markdown",
   "metadata": {
    "colab_type": "text",
    "id": "gtHV9VRG94rk"
   },
   "source": [
    "### 2.2 Checking for duplicates"
   ]
  },
  {
   "cell_type": "code",
   "execution_count": 5,
   "metadata": {
    "colab": {
     "base_uri": "https://localhost:8080/",
     "height": 35
    },
    "colab_type": "code",
    "id": "XRssxb2n94rp",
    "outputId": "6a0f3a64-4b75-428f-895f-dc5f2e9b7a25"
   },
   "outputs": [
    {
     "name": "stdout",
     "output_type": "stream",
     "text": [
      "Number of duplicate questions 0\n"
     ]
    }
   ],
   "source": [
    "#checking whether there are any repeated pair of questions\n",
    "\n",
    "pair_duplicates = project_data[['qid1','qid2','is_duplicate']].groupby(['qid1','qid2']).count().reset_index()\n",
    "\n",
    "print (\"Number of duplicate questions\",(pair_duplicates).shape[0] - project_data.shape[0])"
   ]
  },
  {
   "cell_type": "markdown",
   "metadata": {
    "colab_type": "text",
    "id": "wJlv3J4I94r5"
   },
   "source": [
    "### 2.3 Checking for null values"
   ]
  },
  {
   "cell_type": "code",
   "execution_count": 6,
   "metadata": {
    "colab": {
     "base_uri": "https://localhost:8080/",
     "height": 90
    },
    "colab_type": "code",
    "id": "fhZYhyas94r9",
    "outputId": "cb8552ad-a47c-4fcd-cdbd-0060f2763be4"
   },
   "outputs": [
    {
     "name": "stdout",
     "output_type": "stream",
     "text": [
      "Empty DataFrame\n",
      "Columns: [id, qid1, qid2, question1, question2, is_duplicate]\n",
      "Index: []\n",
      "(0, 6)\n"
     ]
    }
   ],
   "source": [
    "#Checking whether there are any rows with null values\n",
    "nan_rows = project_data[project_data.isnull().any(1)]\n",
    "print (nan_rows)\n",
    "\n",
    "# Filling null values with ' '\n",
    "project_data = project_data.fillna('')\n",
    "nan_rows = project_data[project_data.isnull().any(1)]\n",
    "print (nan_rows.shape)"
   ]
  },
  {
   "cell_type": "markdown",
   "metadata": {
    "colab_type": "text",
    "id": "fxIQSQpm94sI"
   },
   "source": [
    "### 2.4 Text Preprocessing"
   ]
  },
  {
   "cell_type": "code",
   "execution_count": 7,
   "metadata": {
    "colab": {
     "base_uri": "https://localhost:8080/",
     "height": 53
    },
    "colab_type": "code",
    "id": "OSEw_mRM94sM",
    "outputId": "1e6d1711-bb03-472d-ccbf-5d580eb0adee"
   },
   "outputs": [
    {
     "name": "stdout",
     "output_type": "stream",
     "text": [
      "[nltk_data] Downloading package stopwords to /root/nltk_data...\n",
      "[nltk_data]   Package stopwords is already up-to-date!\n"
     ]
    }
   ],
   "source": [
    "import nltk\n",
    "nltk.download(\"stopwords\")\n",
    "\n",
    "# To get the results in 4 decimal points\n",
    "SAFE_DIV = 0.0001 \n",
    "\n",
    "STOP_WORDS = stopwords.words(\"english\")\n",
    "\n",
    "\n",
    "def preprocess(x):\n",
    "    x = str(x).lower()\n",
    "    x = x.replace(\",000,000\", \"m\").replace(\",000\", \"k\").replace(\"′\", \"'\").replace(\"’\", \"'\")\\\n",
    "                           .replace(\"won't\", \"will not\").replace(\"cannot\", \"can not\").replace(\"can't\", \"can not\")\\\n",
    "                           .replace(\"n't\", \" not\").replace(\"what's\", \"what is\").replace(\"it's\", \"it is\")\\\n",
    "                           .replace(\"'ve\", \" have\").replace(\"i'm\", \"i am\").replace(\"'re\", \" are\")\\\n",
    "                           .replace(\"he's\", \"he is\").replace(\"she's\", \"she is\").replace(\"'s\", \" own\")\\\n",
    "                           .replace(\"%\", \" percent \").replace(\"₹\", \" rupee \").replace(\"$\", \" dollar \")\\\n",
    "                           .replace(\"€\", \" euro \").replace(\"'ll\", \" will\")\n",
    "    x = re.sub(r\"([0-9]+)000000\", r\"\\1m\", x)\n",
    "    x = re.sub(r\"([0-9]+)000\", r\"\\1k\", x)\n",
    "    \n",
    "    \n",
    "    porter = PorterStemmer()\n",
    "    pattern = re.compile('\\W')\n",
    "    \n",
    "    if type(x) == type(''):\n",
    "        x = re.sub(pattern, ' ', x)\n",
    "    \n",
    "    \n",
    "    if type(x) == type(''):\n",
    "        x = porter.stem(x)\n",
    "        example1 = BeautifulSoup(x)\n",
    "        x = example1.get_text()\n",
    "               \n",
    "    \n",
    "    return x\n",
    "    "
   ]
  },
  {
   "cell_type": "markdown",
   "metadata": {
    "colab_type": "text",
    "id": "NVyB6GFW94sX"
   },
   "source": [
    "### 2.5 Basic feature extraction"
   ]
  },
  {
   "cell_type": "markdown",
   "metadata": {
    "colab_type": "text",
    "id": "JpCTW0w494sa"
   },
   "source": [
    "<h4> Constructing the below features: </h4> \n",
    "\n",
    "- ____freq_qid1____ = Frequency of qid1's\n",
    "- ____freq_qid2____ = Frequency of qid2's \n",
    "- ____q1len____ = Length of q1\n",
    "- ____q2len____ = Length of q2\n",
    "- ____q1_n_words____ = Number of words in Question 1\n",
    "- ____q2_n_words____ = Number of words in Question 2\n",
    "- ____word_Common____ = (Number of common unique words in Question 1 and Question 2)\n",
    "- ____word_Total____ =(Total num of words in Question 1 + Total num of words in Question 2)\n",
    "- ____word_share____ = (word_common)/(word_Total)\n",
    "- ____freq_q1+freq_q2____ = sum total of frequency of qid1 and qid2 \n",
    "- ____freq_q1-freq_q2____ = absolute difference of frequency of qid1 and qid2 "
   ]
  },
  {
   "cell_type": "code",
   "execution_count": 8,
   "metadata": {
    "colab": {
     "base_uri": "https://localhost:8080/",
     "height": 608
    },
    "colab_type": "code",
    "id": "T9ndxPmH94sc",
    "outputId": "ddaf41a1-2da2-4dee-8d30-fd9755f7ecec"
   },
   "outputs": [
    {
     "data": {
      "text/html": [
       "<div>\n",
       "<style scoped>\n",
       "    .dataframe tbody tr th:only-of-type {\n",
       "        vertical-align: middle;\n",
       "    }\n",
       "\n",
       "    .dataframe tbody tr th {\n",
       "        vertical-align: top;\n",
       "    }\n",
       "\n",
       "    .dataframe thead th {\n",
       "        text-align: right;\n",
       "    }\n",
       "</style>\n",
       "<table border=\"1\" class=\"dataframe\">\n",
       "  <thead>\n",
       "    <tr style=\"text-align: right;\">\n",
       "      <th></th>\n",
       "      <th>id</th>\n",
       "      <th>qid1</th>\n",
       "      <th>qid2</th>\n",
       "      <th>question1</th>\n",
       "      <th>question2</th>\n",
       "      <th>is_duplicate</th>\n",
       "      <th>freq_qid1</th>\n",
       "      <th>freq_qid2</th>\n",
       "      <th>q1len</th>\n",
       "      <th>q2len</th>\n",
       "      <th>q1_n_words</th>\n",
       "      <th>q2_n_words</th>\n",
       "      <th>word_Common</th>\n",
       "      <th>word_Total</th>\n",
       "      <th>word_share</th>\n",
       "      <th>freq_q1+q2</th>\n",
       "      <th>freq_q1-q2</th>\n",
       "    </tr>\n",
       "  </thead>\n",
       "  <tbody>\n",
       "    <tr>\n",
       "      <th>5</th>\n",
       "      <td>5</td>\n",
       "      <td>11</td>\n",
       "      <td>12</td>\n",
       "      <td>Astrology: I am a Capricorn Sun Cap moon and c...</td>\n",
       "      <td>I'm a triple Capricorn (Sun, Moon and ascendan...</td>\n",
       "      <td>1</td>\n",
       "      <td>1</td>\n",
       "      <td>1</td>\n",
       "      <td>86</td>\n",
       "      <td>90</td>\n",
       "      <td>16</td>\n",
       "      <td>16</td>\n",
       "      <td>8.0</td>\n",
       "      <td>31.0</td>\n",
       "      <td>0.258065</td>\n",
       "      <td>2</td>\n",
       "      <td>0</td>\n",
       "    </tr>\n",
       "    <tr>\n",
       "      <th>7</th>\n",
       "      <td>7</td>\n",
       "      <td>15</td>\n",
       "      <td>16</td>\n",
       "      <td>How can I be a good geologist?</td>\n",
       "      <td>What should I do to be a great geologist?</td>\n",
       "      <td>1</td>\n",
       "      <td>1</td>\n",
       "      <td>1</td>\n",
       "      <td>30</td>\n",
       "      <td>41</td>\n",
       "      <td>7</td>\n",
       "      <td>9</td>\n",
       "      <td>4.0</td>\n",
       "      <td>16.0</td>\n",
       "      <td>0.250000</td>\n",
       "      <td>2</td>\n",
       "      <td>0</td>\n",
       "    </tr>\n",
       "    <tr>\n",
       "      <th>11</th>\n",
       "      <td>11</td>\n",
       "      <td>23</td>\n",
       "      <td>24</td>\n",
       "      <td>How do I read and find my YouTube comments?</td>\n",
       "      <td>How can I see all my Youtube comments?</td>\n",
       "      <td>1</td>\n",
       "      <td>1</td>\n",
       "      <td>1</td>\n",
       "      <td>43</td>\n",
       "      <td>38</td>\n",
       "      <td>9</td>\n",
       "      <td>8</td>\n",
       "      <td>5.0</td>\n",
       "      <td>17.0</td>\n",
       "      <td>0.294118</td>\n",
       "      <td>2</td>\n",
       "      <td>0</td>\n",
       "    </tr>\n",
       "    <tr>\n",
       "      <th>12</th>\n",
       "      <td>12</td>\n",
       "      <td>25</td>\n",
       "      <td>26</td>\n",
       "      <td>What can make Physics easy to learn?</td>\n",
       "      <td>How can you make physics easy to learn?</td>\n",
       "      <td>1</td>\n",
       "      <td>1</td>\n",
       "      <td>2</td>\n",
       "      <td>36</td>\n",
       "      <td>39</td>\n",
       "      <td>7</td>\n",
       "      <td>8</td>\n",
       "      <td>6.0</td>\n",
       "      <td>15.0</td>\n",
       "      <td>0.400000</td>\n",
       "      <td>3</td>\n",
       "      <td>1</td>\n",
       "    </tr>\n",
       "    <tr>\n",
       "      <th>13</th>\n",
       "      <td>13</td>\n",
       "      <td>27</td>\n",
       "      <td>28</td>\n",
       "      <td>What was your first sexual experience like?</td>\n",
       "      <td>What was your first sexual experience?</td>\n",
       "      <td>1</td>\n",
       "      <td>1</td>\n",
       "      <td>2</td>\n",
       "      <td>43</td>\n",
       "      <td>38</td>\n",
       "      <td>7</td>\n",
       "      <td>6</td>\n",
       "      <td>5.0</td>\n",
       "      <td>13.0</td>\n",
       "      <td>0.384615</td>\n",
       "      <td>3</td>\n",
       "      <td>1</td>\n",
       "    </tr>\n",
       "  </tbody>\n",
       "</table>\n",
       "</div>"
      ],
      "text/plain": [
       "    id  qid1  qid2  ... word_share freq_q1+q2  freq_q1-q2\n",
       "5    5    11    12  ...   0.258065          2           0\n",
       "7    7    15    16  ...   0.250000          2           0\n",
       "11  11    23    24  ...   0.294118          2           0\n",
       "12  12    25    26  ...   0.400000          3           1\n",
       "13  13    27    28  ...   0.384615          3           1\n",
       "\n",
       "[5 rows x 17 columns]"
      ]
     },
     "execution_count": 8,
     "metadata": {
      "tags": []
     },
     "output_type": "execute_result"
    }
   ],
   "source": [
    "project_data['freq_qid1'] = project_data.groupby('qid1')['qid1'].transform('count') \n",
    "project_data['freq_qid2'] = project_data.groupby('qid2')['qid2'].transform('count')\n",
    "project_data['q1len'] = project_data['question1'].str.len() \n",
    "project_data['q2len'] = project_data['question2'].str.len()\n",
    "project_data['q1_n_words'] = project_data['question1'].apply(lambda row: len(row.split(\" \")))\n",
    "project_data['q2_n_words'] = project_data['question2'].apply(lambda row: len(row.split(\" \")))\n",
    "\n",
    "def normalized_word_Common(row):\n",
    "    w1 = set(map(lambda word: word.lower().strip(), row['question1'].split(\" \")))\n",
    "    w2 = set(map(lambda word: word.lower().strip(), row['question2'].split(\" \")))    \n",
    "    return 1.0 * len(w1 & w2)\n",
    "project_data['word_Common'] = project_data.apply(normalized_word_Common, axis=1)\n",
    "\n",
    "def normalized_word_Total(row):\n",
    "    w1 = set(map(lambda word: word.lower().strip(), row['question1'].split(\" \")))\n",
    "    w2 = set(map(lambda word: word.lower().strip(), row['question2'].split(\" \")))    \n",
    "    return 1.0 * (len(w1) + len(w2))\n",
    "project_data['word_Total'] = project_data.apply(normalized_word_Total, axis=1)\n",
    "\n",
    "def normalized_word_share(row):\n",
    "    w1 = set(map(lambda word: word.lower().strip(), row['question1'].split(\" \")))\n",
    "    w2 = set(map(lambda word: word.lower().strip(), row['question2'].split(\" \")))    \n",
    "    return 1.0 * len(w1 & w2)/(len(w1) + len(w2))\n",
    "project_data['word_share'] = project_data.apply(normalized_word_share, axis=1)\n",
    "\n",
    "project_data['freq_q1+q2'] = project_data['freq_qid1']+project_data['freq_qid2']\n",
    "project_data['freq_q1-q2'] = abs(project_data['freq_qid1']-project_data['freq_qid2'])\n",
    "\n",
    "project_data.head()"
   ]
  },
  {
   "cell_type": "markdown",
   "metadata": {
    "colab_type": "text",
    "id": "y3d21y4w94sn"
   },
   "source": [
    "### 2.6 Advanced Feature Extraction (NLP and Fuzzy Features)"
   ]
  },
  {
   "cell_type": "markdown",
   "metadata": {
    "colab_type": "text",
    "id": "vECc9tyw94sq"
   },
   "source": [
    "Definition:\n",
    "\n",
    "    Token: You get a token by splitting sentence a space\n",
    "    Stop_Word : stop words as per NLTK.\n",
    "    Word : A token that is not a stop_word\n",
    "\n",
    "Features:\n",
    "\n",
    "    cwc_min : Ratio of common_word_count to min lenghth of word count of Q1 and Q2\n",
    "    cwc_min = common_word_count / (min(len(q1_words), len(q2_words))\n",
    "\n",
    "\n",
    "    cwc_max : Ratio of common_word_count to max lenghth of word count of Q1 and Q2\n",
    "    cwc_max = common_word_count / (max(len(q1_words), len(q2_words))\n",
    "\n",
    "\n",
    "    csc_min : Ratio of common_stop_count to min lenghth of stop count of Q1 and Q2\n",
    "    csc_min = common_stop_count / (min(len(q1_stops), len(q2_stops))\n",
    "\n",
    "\n",
    "    csc_max : Ratio of common_stop_count to max lenghth of stop count of Q1 and Q2\n",
    "    csc_max = common_stop_count / (max(len(q1_stops), len(q2_stops))\n",
    "\n",
    "\n",
    "    ctc_min : Ratio of common_token_count to min lenghth of token count of Q1 and Q2\n",
    "    ctc_min = common_token_count / (min(len(q1_tokens), len(q2_tokens))\n",
    "\n",
    "\n",
    "    ctc_max : Ratio of common_token_count to max lenghth of token count of Q1 and Q2\n",
    "    ctc_max = common_token_count / (max(len(q1_tokens), len(q2_tokens))\n",
    "\n",
    "\n",
    "    last_word_eq : Check if First word of both questions is equal or not\n",
    "    last_word_eq = int(q1_tokens[-1] == q2_tokens[-1])\n",
    "\n",
    "\n",
    "    first_word_eq : Check if First word of both questions is equal or not\n",
    "    first_word_eq = int(q1_tokens[0] == q2_tokens[0])\n",
    "\n",
    "\n",
    "    abs_len_diff : Abs. length difference\n",
    "    abs_len_diff = abs(len(q1_tokens) - len(q2_tokens))\n",
    "\n",
    "\n",
    "    mean_len : Average Token Length of both Questions\n",
    "    mean_len = (len(q1_tokens) + len(q2_tokens))/2\n",
    "\n",
    "    longest_substr_ratio : Ratio of length longest common substring to min lenghth of token count of Q1 and Q2\n",
    "    longest_substr_ratio = len(longest common substring) / (min(len(q1_tokens), len(q2_tokens))\n",
    "\n"
   ]
  },
  {
   "cell_type": "code",
   "execution_count": 0,
   "metadata": {
    "colab": {},
    "colab_type": "code",
    "id": "9ipItwMs94st"
   },
   "outputs": [],
   "source": [
    "def get_token_features(q1, q2):\n",
    "    token_features = [0.0]*10\n",
    "    \n",
    "    # Converting the Sentence into Tokens: \n",
    "    q1_tokens = q1.split()\n",
    "    q2_tokens = q2.split()\n",
    "\n",
    "    if len(q1_tokens) == 0 or len(q2_tokens) == 0:\n",
    "        return token_features\n",
    "    # Get the non-stopwords in Questions\n",
    "    q1_words = set([word for word in q1_tokens if word not in STOP_WORDS])\n",
    "    q2_words = set([word for word in q2_tokens if word not in STOP_WORDS])\n",
    "    \n",
    "    #Get the stopwords in Questions\n",
    "    q1_stops = set([word for word in q1_tokens if word in STOP_WORDS])\n",
    "    q2_stops = set([word for word in q2_tokens if word in STOP_WORDS])\n",
    "    \n",
    "    # Get the common non-stopwords from Question pair\n",
    "    common_word_count = len(q1_words.intersection(q2_words))\n",
    "    \n",
    "    # Get the common stopwords from Question pair\n",
    "    common_stop_count = len(q1_stops.intersection(q2_stops))\n",
    "    \n",
    "    # Get the common Tokens from Question pair\n",
    "    common_token_count = len(set(q1_tokens).intersection(set(q2_tokens)))\n",
    "    \n",
    "    \n",
    "    token_features[0] = common_word_count / (min(len(q1_words), len(q2_words)) + SAFE_DIV)\n",
    "    token_features[1] = common_word_count / (max(len(q1_words), len(q2_words)) + SAFE_DIV)\n",
    "    token_features[2] = common_stop_count / (min(len(q1_stops), len(q2_stops)) + SAFE_DIV)\n",
    "    token_features[3] = common_stop_count / (max(len(q1_stops), len(q2_stops)) + SAFE_DIV)\n",
    "    token_features[4] = common_token_count / (min(len(q1_tokens), len(q2_tokens)) + SAFE_DIV)\n",
    "    token_features[5] = common_token_count / (max(len(q1_tokens), len(q2_tokens)) + SAFE_DIV)\n",
    "    \n",
    "    # Last word of both question is same or not\n",
    "    token_features[6] = int(q1_tokens[-1] == q2_tokens[-1])\n",
    "    \n",
    "    # First word of both question is same or not\n",
    "    token_features[7] = int(q1_tokens[0] == q2_tokens[0])\n",
    "    \n",
    "    token_features[8] = abs(len(q1_tokens) - len(q2_tokens))\n",
    "    \n",
    "    #Average Token Length of both Questions\n",
    "    token_features[9] = (len(q1_tokens) + len(q2_tokens))/2\n",
    "    return token_features\n",
    "\n",
    "# get the Longest Common sub string\n",
    "\n",
    "def get_longest_substr_ratio(a, b):\n",
    "    strs = list(distance.lcsubstrings(a, b))\n",
    "    if len(strs) == 0:\n",
    "        return 0\n",
    "    else:\n",
    "        return len(strs[0]) / (min(len(a), len(b)) + 1)\n",
    "\n",
    "def extract_features(project_data):\n",
    "    # preprocessing each question\n",
    "    project_data[\"question1\"] = project_data[\"question1\"].fillna(\"\").apply(preprocess)\n",
    "    project_data[\"question2\"] = project_data[\"question2\"].fillna(\"\").apply(preprocess)\n",
    "\n",
    "    print(\"token features...\")\n",
    "    \n",
    "    # Merging Features with dataset\n",
    "    \n",
    "    token_features = project_data.apply(lambda x: get_token_features(x[\"question1\"], x[\"question2\"]), axis=1)\n",
    "    \n",
    "    project_data[\"cwc_min\"]       = list(map(lambda x: x[0], token_features))\n",
    "    project_data[\"cwc_max\"]       = list(map(lambda x: x[1], token_features))\n",
    "    project_data[\"csc_min\"]       = list(map(lambda x: x[2], token_features))\n",
    "    project_data[\"csc_max\"]       = list(map(lambda x: x[3], token_features))\n",
    "    project_data[\"ctc_min\"]       = list(map(lambda x: x[4], token_features))\n",
    "    project_data[\"ctc_max\"]       = list(map(lambda x: x[5], token_features))\n",
    "    project_data[\"last_word_eq\"]  = list(map(lambda x: x[6], token_features))\n",
    "    project_data[\"first_word_eq\"] = list(map(lambda x: x[7], token_features))\n",
    "    project_data[\"abs_len_diff\"]  = list(map(lambda x: x[8], token_features))\n",
    "    project_data[\"mean_len\"]      = list(map(lambda x: x[9], token_features))\n",
    "   \n",
    "    #Computing Fuzzy Features and Merging with Dataset\n",
    "    \n",
    "    # do read this blog: http://chairnerd.seatgeek.com/fuzzywuzzy-fuzzy-string-matching-in-python/\n",
    "    # https://stackoverflow.com/questions/31806695/when-to-use-which-fuzz-function-to-compare-2-strings\n",
    "    # https://github.com/seatgeek/fuzzywuzzy\n",
    "    print(\"fuzzy features..\")\n",
    "\n",
    "    project_data[\"token_set_ratio\"]       = project_data.apply(lambda x: fuzz.token_set_ratio(x[\"question1\"], x[\"question2\"]), axis=1)\n",
    "    # The token sort approach involves tokenizing the string in question, sorting the tokens alphabetically, and \n",
    "    # then joining them back into a string We then compare the transformed strings with a simple ratio().\n",
    "    project_data[\"token_sort_ratio\"]      = project_data.apply(lambda x: fuzz.token_sort_ratio(x[\"question1\"], x[\"question2\"]), axis=1)\n",
    "    project_data[\"fuzz_ratio\"]            = project_data.apply(lambda x: fuzz.QRatio(x[\"question1\"], x[\"question2\"]), axis=1)\n",
    "    project_data[\"fuzz_partial_ratio\"]    = project_data.apply(lambda x: fuzz.partial_ratio(x[\"question1\"], x[\"question2\"]), axis=1)\n",
    "    project_data[\"longest_substr_ratio\"]  = project_data.apply(lambda x: get_longest_substr_ratio(x[\"question1\"], x[\"question2\"]), axis=1)\n",
    "    return project_data"
   ]
  },
  {
   "cell_type": "code",
   "execution_count": 10,
   "metadata": {
    "colab": {
     "base_uri": "https://localhost:8080/",
     "height": 325
    },
    "colab_type": "code",
    "id": "SzLn5e_894s1",
    "outputId": "371446cc-2b93-4bcf-c650-fdd34c976c2a"
   },
   "outputs": [
    {
     "name": "stdout",
     "output_type": "stream",
     "text": [
      "token features...\n",
      "fuzzy features..\n"
     ]
    },
    {
     "data": {
      "text/html": [
       "<div>\n",
       "<style scoped>\n",
       "    .dataframe tbody tr th:only-of-type {\n",
       "        vertical-align: middle;\n",
       "    }\n",
       "\n",
       "    .dataframe tbody tr th {\n",
       "        vertical-align: top;\n",
       "    }\n",
       "\n",
       "    .dataframe thead th {\n",
       "        text-align: right;\n",
       "    }\n",
       "</style>\n",
       "<table border=\"1\" class=\"dataframe\">\n",
       "  <thead>\n",
       "    <tr style=\"text-align: right;\">\n",
       "      <th></th>\n",
       "      <th>id</th>\n",
       "      <th>qid1</th>\n",
       "      <th>qid2</th>\n",
       "      <th>question1</th>\n",
       "      <th>question2</th>\n",
       "      <th>is_duplicate</th>\n",
       "      <th>freq_qid1</th>\n",
       "      <th>freq_qid2</th>\n",
       "      <th>q1len</th>\n",
       "      <th>q2len</th>\n",
       "      <th>q1_n_words</th>\n",
       "      <th>q2_n_words</th>\n",
       "      <th>word_Common</th>\n",
       "      <th>word_Total</th>\n",
       "      <th>word_share</th>\n",
       "      <th>freq_q1+q2</th>\n",
       "      <th>freq_q1-q2</th>\n",
       "      <th>cwc_min</th>\n",
       "      <th>cwc_max</th>\n",
       "      <th>csc_min</th>\n",
       "      <th>csc_max</th>\n",
       "      <th>ctc_min</th>\n",
       "      <th>ctc_max</th>\n",
       "      <th>last_word_eq</th>\n",
       "      <th>first_word_eq</th>\n",
       "      <th>abs_len_diff</th>\n",
       "      <th>mean_len</th>\n",
       "      <th>token_set_ratio</th>\n",
       "      <th>token_sort_ratio</th>\n",
       "      <th>fuzz_ratio</th>\n",
       "      <th>fuzz_partial_ratio</th>\n",
       "      <th>longest_substr_ratio</th>\n",
       "    </tr>\n",
       "  </thead>\n",
       "  <tbody>\n",
       "    <tr>\n",
       "      <th>5</th>\n",
       "      <td>5</td>\n",
       "      <td>11</td>\n",
       "      <td>12</td>\n",
       "      <td>astrology  i am a capricorn sun cap moon and c...</td>\n",
       "      <td>i am a triple capricorn  sun  moon and ascenda...</td>\n",
       "      <td>1</td>\n",
       "      <td>1</td>\n",
       "      <td>1</td>\n",
       "      <td>86</td>\n",
       "      <td>90</td>\n",
       "      <td>16</td>\n",
       "      <td>16</td>\n",
       "      <td>8.0</td>\n",
       "      <td>31.0</td>\n",
       "      <td>0.258065</td>\n",
       "      <td>2</td>\n",
       "      <td>0</td>\n",
       "      <td>0.666656</td>\n",
       "      <td>0.571420</td>\n",
       "      <td>0.888879</td>\n",
       "      <td>0.799992</td>\n",
       "      <td>0.705878</td>\n",
       "      <td>0.705878</td>\n",
       "      <td>1.0</td>\n",
       "      <td>0.0</td>\n",
       "      <td>0.0</td>\n",
       "      <td>17.0</td>\n",
       "      <td>81</td>\n",
       "      <td>77</td>\n",
       "      <td>73</td>\n",
       "      <td>73</td>\n",
       "      <td>0.160920</td>\n",
       "    </tr>\n",
       "    <tr>\n",
       "      <th>7</th>\n",
       "      <td>7</td>\n",
       "      <td>15</td>\n",
       "      <td>16</td>\n",
       "      <td>how can i be a good geologist</td>\n",
       "      <td>what should i do to be a great geologist</td>\n",
       "      <td>1</td>\n",
       "      <td>1</td>\n",
       "      <td>1</td>\n",
       "      <td>30</td>\n",
       "      <td>41</td>\n",
       "      <td>7</td>\n",
       "      <td>9</td>\n",
       "      <td>4.0</td>\n",
       "      <td>16.0</td>\n",
       "      <td>0.250000</td>\n",
       "      <td>2</td>\n",
       "      <td>0</td>\n",
       "      <td>0.499975</td>\n",
       "      <td>0.499975</td>\n",
       "      <td>0.599988</td>\n",
       "      <td>0.428565</td>\n",
       "      <td>0.571420</td>\n",
       "      <td>0.444440</td>\n",
       "      <td>1.0</td>\n",
       "      <td>0.0</td>\n",
       "      <td>2.0</td>\n",
       "      <td>8.0</td>\n",
       "      <td>71</td>\n",
       "      <td>61</td>\n",
       "      <td>61</td>\n",
       "      <td>67</td>\n",
       "      <td>0.354839</td>\n",
       "    </tr>\n",
       "  </tbody>\n",
       "</table>\n",
       "</div>"
      ],
      "text/plain": [
       "   id  qid1  qid2  ... fuzz_ratio fuzz_partial_ratio  longest_substr_ratio\n",
       "5   5    11    12  ...         73                 73              0.160920\n",
       "7   7    15    16  ...         61                 67              0.354839\n",
       "\n",
       "[2 rows x 32 columns]"
      ]
     },
     "execution_count": 10,
     "metadata": {
      "tags": []
     },
     "output_type": "execute_result"
    }
   ],
   "source": [
    "project_data = extract_features(project_data)\n",
    "project_data.head(2)"
   ]
  },
  {
   "cell_type": "code",
   "execution_count": 11,
   "metadata": {
    "colab": {
     "base_uri": "https://localhost:8080/",
     "height": 726
    },
    "colab_type": "code",
    "id": "suzATZQx94tD",
    "outputId": "1ffc9821-0952-4aeb-bb96-1b8427b1f421"
   },
   "outputs": [
    {
     "name": "stdout",
     "output_type": "stream",
     "text": [
      "(100000, 32)\n",
      "<class 'pandas.core.frame.DataFrame'>\n",
      "Int64Index: 100000 entries, 5 to 79686\n",
      "Data columns (total 32 columns):\n",
      "id                      100000 non-null int64\n",
      "qid1                    100000 non-null int64\n",
      "qid2                    100000 non-null int64\n",
      "question1               100000 non-null object\n",
      "question2               100000 non-null object\n",
      "is_duplicate            100000 non-null int64\n",
      "freq_qid1               100000 non-null int64\n",
      "freq_qid2               100000 non-null int64\n",
      "q1len                   100000 non-null int64\n",
      "q2len                   100000 non-null int64\n",
      "q1_n_words              100000 non-null int64\n",
      "q2_n_words              100000 non-null int64\n",
      "word_Common             100000 non-null float64\n",
      "word_Total              100000 non-null float64\n",
      "word_share              100000 non-null float64\n",
      "freq_q1+q2              100000 non-null int64\n",
      "freq_q1-q2              100000 non-null int64\n",
      "cwc_min                 100000 non-null float64\n",
      "cwc_max                 100000 non-null float64\n",
      "csc_min                 100000 non-null float64\n",
      "csc_max                 100000 non-null float64\n",
      "ctc_min                 100000 non-null float64\n",
      "ctc_max                 100000 non-null float64\n",
      "last_word_eq            100000 non-null float64\n",
      "first_word_eq           100000 non-null float64\n",
      "abs_len_diff            100000 non-null float64\n",
      "mean_len                100000 non-null float64\n",
      "token_set_ratio         100000 non-null int64\n",
      "token_sort_ratio        100000 non-null int64\n",
      "fuzz_ratio              100000 non-null int64\n",
      "fuzz_partial_ratio      100000 non-null int64\n",
      "longest_substr_ratio    100000 non-null float64\n",
      "dtypes: float64(14), int64(16), object(2)\n",
      "memory usage: 25.2+ MB\n",
      "None\n"
     ]
    }
   ],
   "source": [
    "print(project_data.shape)\n",
    "print(project_data.info())"
   ]
  },
  {
   "cell_type": "markdown",
   "metadata": {
    "colab_type": "text",
    "id": "CuMTqWGutASO"
   },
   "source": [
    "### 2.7 Splitting data into train and test (70:30)"
   ]
  },
  {
   "cell_type": "code",
   "execution_count": 12,
   "metadata": {
    "colab": {
     "base_uri": "https://localhost:8080/",
     "height": 35
    },
    "colab_type": "code",
    "id": "3Rat2obGtASP",
    "outputId": "9b18ab31-0841-4cee-9f19-123b94a50af4"
   },
   "outputs": [
    {
     "name": "stdout",
     "output_type": "stream",
     "text": [
      "(70000, 32) (30000, 32)\n"
     ]
    }
   ],
   "source": [
    "df_train, df_test = train_test_split(project_data, test_size = 0.3, stratify=project_data['is_duplicate'])\n",
    "print(df_train.shape,df_test.shape)"
   ]
  },
  {
   "cell_type": "code",
   "execution_count": 13,
   "metadata": {
    "colab": {
     "base_uri": "https://localhost:8080/",
     "height": 35
    },
    "colab_type": "code",
    "id": "8vfmFIKH94th",
    "outputId": "2569f536-7c28-44f7-8bfc-0f77941f8f24"
   },
   "outputs": [
    {
     "name": "stdout",
     "output_type": "stream",
     "text": [
      "70000 30000\n"
     ]
    }
   ],
   "source": [
    "y_train=df_train['is_duplicate']\n",
    "y_test=df_test['is_duplicate']\n",
    "\n",
    "print(len(y_train),len(y_test))"
   ]
  },
  {
   "cell_type": "markdown",
   "metadata": {
    "colab_type": "text",
    "id": "74fq7kRz94tt"
   },
   "source": [
    "<h1> 3. Make Data Model Ready </h1>"
   ]
  },
  {
   "cell_type": "markdown",
   "metadata": {
    "colab_type": "text",
    "id": "PJNV4--m94tu"
   },
   "source": [
    "### 3.1 Vectorizing Q1 and Q2 using TFIDF"
   ]
  },
  {
   "cell_type": "code",
   "execution_count": 14,
   "metadata": {
    "colab": {
     "base_uri": "https://localhost:8080/",
     "height": 72
    },
    "colab_type": "code",
    "id": "hZbSJuxV94tx",
    "outputId": "51a17ba5-6069-48e2-d8a3-7b49d1f59e12"
   },
   "outputs": [
    {
     "name": "stdout",
     "output_type": "stream",
     "text": [
      "Shape of matrix after one hot encoding (q1 train, test) (70000, 5024) (30000, 5024)\n",
      "Shape of matrix after one hot encoding (q2 train, test) (70000, 4955) (30000, 4955)\n",
      "<class 'scipy.sparse.csr.csr_matrix'> (70000, 4955) <class 'pandas.core.frame.DataFrame'>\n"
     ]
    }
   ],
   "source": [
    "from sklearn.feature_extraction.text import TfidfVectorizer\n",
    "vectorizer = TfidfVectorizer(min_df=10)\n",
    "\n",
    "q1_train_tfidf = vectorizer.fit_transform(df_train['question1'])\n",
    "q1_test_tfidf = vectorizer.transform(df_test['question1'])\n",
    "print(\"Shape of matrix after one hot encoding (q1 train, test)\",q1_train_tfidf.shape, q1_test_tfidf.shape)\n",
    "\n",
    "q2_train_tfidf = vectorizer.fit_transform(df_train['question2'])\n",
    "q2_test_tfidf = vectorizer.transform(df_test['question2'])\n",
    "print(\"Shape of matrix after one hot encoding (q2 train, test)\",q2_train_tfidf.shape, q2_test_tfidf.shape)\n",
    "print(type(q2_train_tfidf),q2_train_tfidf.shape,type(df_train))"
   ]
  },
  {
   "cell_type": "markdown",
   "metadata": {
    "colab_type": "text",
    "id": "9eAuK1Cy94t6"
   },
   "source": [
    "### 3.2 Removing ID, Q1 and Q2 columns from dataframe"
   ]
  },
  {
   "cell_type": "code",
   "execution_count": 15,
   "metadata": {
    "colab": {
     "base_uri": "https://localhost:8080/",
     "height": 539
    },
    "colab_type": "code",
    "id": "LK8PVQ0394t8",
    "outputId": "c07357cb-8a65-4b0a-d964-8ff6dd28aece"
   },
   "outputs": [
    {
     "data": {
      "text/html": [
       "<div>\n",
       "<style scoped>\n",
       "    .dataframe tbody tr th:only-of-type {\n",
       "        vertical-align: middle;\n",
       "    }\n",
       "\n",
       "    .dataframe tbody tr th {\n",
       "        vertical-align: top;\n",
       "    }\n",
       "\n",
       "    .dataframe thead th {\n",
       "        text-align: right;\n",
       "    }\n",
       "</style>\n",
       "<table border=\"1\" class=\"dataframe\">\n",
       "  <thead>\n",
       "    <tr style=\"text-align: right;\">\n",
       "      <th></th>\n",
       "      <th>id</th>\n",
       "      <th>qid1</th>\n",
       "      <th>qid2</th>\n",
       "      <th>question1</th>\n",
       "      <th>question2</th>\n",
       "      <th>is_duplicate</th>\n",
       "      <th>freq_qid1</th>\n",
       "      <th>freq_qid2</th>\n",
       "      <th>q1len</th>\n",
       "      <th>q2len</th>\n",
       "      <th>q1_n_words</th>\n",
       "      <th>q2_n_words</th>\n",
       "      <th>word_Common</th>\n",
       "      <th>word_Total</th>\n",
       "      <th>word_share</th>\n",
       "      <th>freq_q1+q2</th>\n",
       "      <th>freq_q1-q2</th>\n",
       "      <th>cwc_min</th>\n",
       "      <th>cwc_max</th>\n",
       "      <th>csc_min</th>\n",
       "      <th>csc_max</th>\n",
       "      <th>ctc_min</th>\n",
       "      <th>ctc_max</th>\n",
       "      <th>last_word_eq</th>\n",
       "      <th>first_word_eq</th>\n",
       "      <th>abs_len_diff</th>\n",
       "      <th>mean_len</th>\n",
       "      <th>token_set_ratio</th>\n",
       "      <th>token_sort_ratio</th>\n",
       "      <th>fuzz_ratio</th>\n",
       "      <th>fuzz_partial_ratio</th>\n",
       "      <th>longest_substr_ratio</th>\n",
       "    </tr>\n",
       "  </thead>\n",
       "  <tbody>\n",
       "    <tr>\n",
       "      <th>29705</th>\n",
       "      <td>29705</td>\n",
       "      <td>54932</td>\n",
       "      <td>54933</td>\n",
       "      <td>does palestine have an army  are they fighting...</td>\n",
       "      <td>why does not palestine have an army</td>\n",
       "      <td>0</td>\n",
       "      <td>1</td>\n",
       "      <td>1</td>\n",
       "      <td>52</td>\n",
       "      <td>35</td>\n",
       "      <td>9</td>\n",
       "      <td>6</td>\n",
       "      <td>4.0</td>\n",
       "      <td>15.0</td>\n",
       "      <td>0.266667</td>\n",
       "      <td>2</td>\n",
       "      <td>0</td>\n",
       "      <td>0.999950</td>\n",
       "      <td>0.499988</td>\n",
       "      <td>0.599988</td>\n",
       "      <td>0.599988</td>\n",
       "      <td>0.714276</td>\n",
       "      <td>0.555549</td>\n",
       "      <td>0.0</td>\n",
       "      <td>0.0</td>\n",
       "      <td>2.0</td>\n",
       "      <td>8.0</td>\n",
       "      <td>87</td>\n",
       "      <td>73</td>\n",
       "      <td>63</td>\n",
       "      <td>78</td>\n",
       "      <td>0.648649</td>\n",
       "    </tr>\n",
       "    <tr>\n",
       "      <th>100145</th>\n",
       "      <td>100145</td>\n",
       "      <td>166160</td>\n",
       "      <td>166161</td>\n",
       "      <td>how can i record sound from headphones</td>\n",
       "      <td>how would i directly record the sound from my ...</td>\n",
       "      <td>1</td>\n",
       "      <td>1</td>\n",
       "      <td>1</td>\n",
       "      <td>39</td>\n",
       "      <td>57</td>\n",
       "      <td>7</td>\n",
       "      <td>10</td>\n",
       "      <td>6.0</td>\n",
       "      <td>17.0</td>\n",
       "      <td>0.352941</td>\n",
       "      <td>2</td>\n",
       "      <td>0</td>\n",
       "      <td>0.999967</td>\n",
       "      <td>0.599988</td>\n",
       "      <td>0.749981</td>\n",
       "      <td>0.599988</td>\n",
       "      <td>0.857131</td>\n",
       "      <td>0.599994</td>\n",
       "      <td>1.0</td>\n",
       "      <td>1.0</td>\n",
       "      <td>3.0</td>\n",
       "      <td>8.5</td>\n",
       "      <td>94</td>\n",
       "      <td>77</td>\n",
       "      <td>74</td>\n",
       "      <td>77</td>\n",
       "      <td>0.300000</td>\n",
       "    </tr>\n",
       "    <tr>\n",
       "      <th>28115</th>\n",
       "      <td>28115</td>\n",
       "      <td>52159</td>\n",
       "      <td>52160</td>\n",
       "      <td>why is windows 10 so buggy</td>\n",
       "      <td>is windows 10 buggy</td>\n",
       "      <td>1</td>\n",
       "      <td>1</td>\n",
       "      <td>1</td>\n",
       "      <td>27</td>\n",
       "      <td>20</td>\n",
       "      <td>6</td>\n",
       "      <td>4</td>\n",
       "      <td>4.0</td>\n",
       "      <td>10.0</td>\n",
       "      <td>0.400000</td>\n",
       "      <td>2</td>\n",
       "      <td>0</td>\n",
       "      <td>0.999967</td>\n",
       "      <td>0.999967</td>\n",
       "      <td>0.999900</td>\n",
       "      <td>0.333322</td>\n",
       "      <td>0.999975</td>\n",
       "      <td>0.666656</td>\n",
       "      <td>1.0</td>\n",
       "      <td>0.0</td>\n",
       "      <td>2.0</td>\n",
       "      <td>5.0</td>\n",
       "      <td>100</td>\n",
       "      <td>84</td>\n",
       "      <td>84</td>\n",
       "      <td>85</td>\n",
       "      <td>0.666667</td>\n",
       "    </tr>\n",
       "    <tr>\n",
       "      <th>30376</th>\n",
       "      <td>30376</td>\n",
       "      <td>56113</td>\n",
       "      <td>56114</td>\n",
       "      <td>why does cubic have a monopoly on transit agen...</td>\n",
       "      <td>how competitive is the hiring process at cubic</td>\n",
       "      <td>0</td>\n",
       "      <td>1</td>\n",
       "      <td>1</td>\n",
       "      <td>60</td>\n",
       "      <td>47</td>\n",
       "      <td>10</td>\n",
       "      <td>8</td>\n",
       "      <td>0.0</td>\n",
       "      <td>18.0</td>\n",
       "      <td>0.000000</td>\n",
       "      <td>2</td>\n",
       "      <td>0</td>\n",
       "      <td>0.249994</td>\n",
       "      <td>0.199996</td>\n",
       "      <td>0.000000</td>\n",
       "      <td>0.000000</td>\n",
       "      <td>0.124998</td>\n",
       "      <td>0.099999</td>\n",
       "      <td>0.0</td>\n",
       "      <td>0.0</td>\n",
       "      <td>2.0</td>\n",
       "      <td>9.0</td>\n",
       "      <td>32</td>\n",
       "      <td>30</td>\n",
       "      <td>23</td>\n",
       "      <td>23</td>\n",
       "      <td>0.145833</td>\n",
       "    </tr>\n",
       "    <tr>\n",
       "      <th>40246</th>\n",
       "      <td>40246</td>\n",
       "      <td>72839</td>\n",
       "      <td>72840</td>\n",
       "      <td>would you buy the apple watch</td>\n",
       "      <td>should i buy an apple watch</td>\n",
       "      <td>0</td>\n",
       "      <td>1</td>\n",
       "      <td>1</td>\n",
       "      <td>30</td>\n",
       "      <td>28</td>\n",
       "      <td>6</td>\n",
       "      <td>6</td>\n",
       "      <td>3.0</td>\n",
       "      <td>12.0</td>\n",
       "      <td>0.250000</td>\n",
       "      <td>2</td>\n",
       "      <td>0</td>\n",
       "      <td>0.999967</td>\n",
       "      <td>0.749981</td>\n",
       "      <td>0.000000</td>\n",
       "      <td>0.000000</td>\n",
       "      <td>0.499992</td>\n",
       "      <td>0.499992</td>\n",
       "      <td>1.0</td>\n",
       "      <td>0.0</td>\n",
       "      <td>0.0</td>\n",
       "      <td>6.0</td>\n",
       "      <td>75</td>\n",
       "      <td>61</td>\n",
       "      <td>79</td>\n",
       "      <td>79</td>\n",
       "      <td>0.448276</td>\n",
       "    </tr>\n",
       "  </tbody>\n",
       "</table>\n",
       "</div>"
      ],
      "text/plain": [
       "            id    qid1  ...  fuzz_partial_ratio longest_substr_ratio\n",
       "29705    29705   54932  ...                  78             0.648649\n",
       "100145  100145  166160  ...                  77             0.300000\n",
       "28115    28115   52159  ...                  85             0.666667\n",
       "30376    30376   56113  ...                  23             0.145833\n",
       "40246    40246   72839  ...                  79             0.448276\n",
       "\n",
       "[5 rows x 32 columns]"
      ]
     },
     "execution_count": 15,
     "metadata": {
      "tags": []
     },
     "output_type": "execute_result"
    }
   ],
   "source": [
    "df_train.head()"
   ]
  },
  {
   "cell_type": "code",
   "execution_count": 16,
   "metadata": {
    "colab": {
     "base_uri": "https://localhost:8080/",
     "height": 35
    },
    "colab_type": "code",
    "id": "beBoZjp494uJ",
    "outputId": "47d33b9c-8941-45d7-8a17-7ed39e2ec7b3"
   },
   "outputs": [
    {
     "name": "stdout",
     "output_type": "stream",
     "text": [
      "(70000, 26) (30000, 26)\n"
     ]
    }
   ],
   "source": [
    "df_train.drop(['id','qid1','qid2','question1','question2','is_duplicate'], axis=1, inplace=True)\n",
    "df_test.drop(['id','qid1','qid2','question1','question2','is_duplicate'], axis=1, inplace=True)\n",
    "\n",
    "print(df_train.shape, df_test.shape)"
   ]
  },
  {
   "cell_type": "markdown",
   "metadata": {
    "colab_type": "text",
    "id": "rnqIgXf094uV"
   },
   "source": [
    "<h1> 4. Training various models on TFIDF featurization </h1>"
   ]
  },
  {
   "cell_type": "markdown",
   "metadata": {
    "colab_type": "text",
    "id": "P7kjeYYo94uX"
   },
   "source": [
    "### 4.1 Logistic Regression"
   ]
  },
  {
   "cell_type": "code",
   "execution_count": 17,
   "metadata": {
    "colab": {
     "base_uri": "https://localhost:8080/",
     "height": 72
    },
    "colab_type": "code",
    "id": "NhgEED0NCxmR",
    "outputId": "486721b4-d510-4593-f700-9e930e1e23b7"
   },
   "outputs": [
    {
     "name": "stdout",
     "output_type": "stream",
     "text": [
      "<class 'scipy.sparse.csr.csr_matrix'> <class 'scipy.sparse.csr.csr_matrix'>\n",
      "(70000, 10005) <class 'scipy.sparse.coo.coo_matrix'> (70000,) <class 'pandas.core.series.Series'>\n",
      "(30000, 10005) <class 'scipy.sparse.coo.coo_matrix'> (30000,) <class 'pandas.core.series.Series'>\n"
     ]
    }
   ],
   "source": [
    "#https://www.digitalocean.com/community/tutorials/how-to-plot-data-in-python-3-using-matplotlib\n",
    "#https://scikit-learn.org/stable/modules/generated/sklearn.metrics.roc_auc_score.html\n",
    "#https://scikit-learn.org/stable/modules/model_evaluation.html#scoring-parameter\n",
    "    \n",
    "from scipy.sparse import hstack\n",
    "from sklearn import linear_model\n",
    "import matplotlib.patches as mpatches\n",
    "from sklearn.metrics import roc_auc_score\n",
    "\n",
    "print(type(q1_train_tfidf), type(q2_train_tfidf))\n",
    "\n",
    "x_train = hstack((df_train,q1_train_tfidf, q2_train_tfidf))\n",
    "\n",
    "x_test = hstack((df_test,q1_test_tfidf, q2_test_tfidf))\n",
    "\n",
    "print(x_train.shape, type(x_train), y_train.shape, type(y_train))\n",
    "print(x_test.shape, type(x_test), y_test.shape, type(y_test))"
   ]
  },
  {
   "cell_type": "code",
   "execution_count": 0,
   "metadata": {
    "colab": {},
    "colab_type": "code",
    "id": "gPcj7cHm94uY"
   },
   "outputs": [],
   "source": [
    "# This function plots the confusion matrices given y_i, y_i_hat.\n",
    "def plot_confusion_matrix(test_y, predict_y):\n",
    "    C = confusion_matrix(test_y, predict_y)\n",
    "    # C = 9,9 matrix, each cell (i,j) represents number of points of class i are predicted class j\n",
    "    \n",
    "    A =(((C.T)/(C.sum(axis=1))).T)\n",
    "    #divid each element of the confusion matrix with the sum of elements in that column\n",
    "    \n",
    "    # C = [[1, 2],\n",
    "    #     [3, 4]]\n",
    "    # C.T = [[1, 3],\n",
    "    #        [2, 4]]\n",
    "    # C.sum(axis = 1)  axis=0 corresonds to columns and axis=1 corresponds to rows in two diamensional array\n",
    "    # C.sum(axix =1) = [[3, 7]]\n",
    "    # ((C.T)/(C.sum(axis=1))) = [[1/3, 3/7]\n",
    "    #                           [2/3, 4/7]]\n",
    "\n",
    "    # ((C.T)/(C.sum(axis=1))).T = [[1/3, 2/3]\n",
    "    #                           [3/7, 4/7]]\n",
    "    # sum of row elements = 1\n",
    "    \n",
    "    B =(C/C.sum(axis=0))\n",
    "    #divid each element of the confusion matrix with the sum of elements in that row\n",
    "    # C = [[1, 2],\n",
    "    #     [3, 4]]\n",
    "    # C.sum(axis = 0)  axis=0 corresonds to columns and axis=1 corresponds to rows in two diamensional array\n",
    "    # C.sum(axix =0) = [[4, 6]]\n",
    "    # (C/C.sum(axis=0)) = [[1/4, 2/6],\n",
    "    #                      [3/4, 4/6]] \n",
    "    plt.figure(figsize=(20,4))\n",
    "    \n",
    "    labels = [1,2]\n",
    "    # representing A in heatmap format\n",
    "    cmap=sns.light_palette(\"blue\")\n",
    "    plt.subplot(1, 3, 1)\n",
    "    sns.heatmap(C, annot=True, cmap=cmap, fmt=\".3f\", xticklabels=labels, yticklabels=labels)\n",
    "    plt.xlabel('Predicted Class')\n",
    "    plt.ylabel('Original Class')\n",
    "    plt.title(\"Confusion matrix\")\n",
    "    \n",
    "    plt.subplot(1, 3, 2)\n",
    "    sns.heatmap(B, annot=True, cmap=cmap, fmt=\".3f\", xticklabels=labels, yticklabels=labels)\n",
    "    plt.xlabel('Predicted Class')\n",
    "    plt.ylabel('Original Class')\n",
    "    plt.title(\"Precision matrix\")\n",
    "    \n",
    "    plt.subplot(1, 3, 3)\n",
    "    # representing B in heatmap format\n",
    "    sns.heatmap(A, annot=True, cmap=cmap, fmt=\".3f\", xticklabels=labels, yticklabels=labels)\n",
    "    plt.xlabel('Predicted Class')\n",
    "    plt.ylabel('Original Class')\n",
    "    plt.title(\"Recall matrix\")\n",
    "    \n",
    "    plt.show()"
   ]
  },
  {
   "cell_type": "code",
   "execution_count": 19,
   "metadata": {
    "colab": {
     "base_uri": "https://localhost:8080/",
     "height": 828
    },
    "colab_type": "code",
    "id": "EWO9gRZO94ud",
    "outputId": "c1ea6811-f582-4b8b-d136-0c4a2db53bdc"
   },
   "outputs": [
    {
     "name": "stderr",
     "output_type": "stream",
     "text": [
      " 14%|█▍        | 1/7 [00:46<04:41, 46.92s/it]"
     ]
    },
    {
     "name": "stdout",
     "output_type": "stream",
     "text": [
      "For values of alpha =  1e-05 The log loss is: 0.443534214713942\n"
     ]
    },
    {
     "name": "stderr",
     "output_type": "stream",
     "text": [
      "\r 29%|██▊       | 2/7 [01:34<03:55, 47.06s/it]"
     ]
    },
    {
     "name": "stdout",
     "output_type": "stream",
     "text": [
      "For values of alpha =  0.0001 The log loss is: 0.4355493161781906\n"
     ]
    },
    {
     "name": "stderr",
     "output_type": "stream",
     "text": [
      "\r 43%|████▎     | 3/7 [02:00<02:42, 40.72s/it]"
     ]
    },
    {
     "name": "stdout",
     "output_type": "stream",
     "text": [
      "For values of alpha =  0.001 The log loss is: 0.44742460814014956\n"
     ]
    },
    {
     "name": "stderr",
     "output_type": "stream",
     "text": [
      "\r 57%|█████▋    | 4/7 [02:10<01:34, 31.49s/it]"
     ]
    },
    {
     "name": "stdout",
     "output_type": "stream",
     "text": [
      "For values of alpha =  0.01 The log loss is: 0.4781831470217574\n"
     ]
    },
    {
     "name": "stderr",
     "output_type": "stream",
     "text": [
      "\r 71%|███████▏  | 5/7 [02:13<00:46, 23.18s/it]"
     ]
    },
    {
     "name": "stdout",
     "output_type": "stream",
     "text": [
      "For values of alpha =  0.1 The log loss is: 0.5036653100098649\n"
     ]
    },
    {
     "name": "stderr",
     "output_type": "stream",
     "text": [
      "\r 86%|████████▌ | 6/7 [02:16<00:16, 16.86s/it]"
     ]
    },
    {
     "name": "stdout",
     "output_type": "stream",
     "text": [
      "For values of alpha =  1 The log loss is: 0.5306021130995565\n"
     ]
    },
    {
     "name": "stderr",
     "output_type": "stream",
     "text": [
      "\r100%|██████████| 7/7 [02:17<00:00, 12.27s/it]"
     ]
    },
    {
     "name": "stdout",
     "output_type": "stream",
     "text": [
      "For values of alpha =  10 The log loss is: 0.5806464946361329\n"
     ]
    },
    {
     "name": "stderr",
     "output_type": "stream",
     "text": [
      "\n"
     ]
    },
    {
     "data": {
      "image/png": "[encoded data removed]",
      "text/plain": [
       "<Figure size 1440x360 with 1 Axes>"
      ]
     },
     "metadata": {
      "tags": []
     },
     "output_type": "display_data"
    },
    {
     "name": "stdout",
     "output_type": "stream",
     "text": [
      "For values of best alpha =  0.0001 The train log loss is: 0.43269034898107744\n",
      "For values of best alpha =  0.0001 The test log loss is: 0.4355493161781906\n",
      "Total number of data points : 30000\n"
     ]
    },
    {
     "data": {
      "image/png": "[encoded data removed]",
      "text/plain": [
       "<Figure size 1440x288 with 6 Axes>"
      ]
     },
     "metadata": {
      "tags": []
     },
     "output_type": "display_data"
    }
   ],
   "source": [
    "alpha = [10 ** x for x in range(-5, 2)] # hyperparam for SGD classifier.\n",
    "\n",
    "# read more about SGDClassifier() at http://scikit-learn.org/stable/modules/generated/sklearn.linear_model.SGDClassifier.html\n",
    "# ------------------------------\n",
    "# default parameters\n",
    "# SGDClassifier(loss=’hinge’, penalty=’l2’, alpha=0.0001, l1_ratio=0.15, fit_intercept=True, max_iter=None, tol=None, \n",
    "# shuffle=True, verbose=0, epsilon=0.1, n_jobs=1, random_state=None, learning_rate=’optimal’, eta0=0.0, power_t=0.5, \n",
    "# class_weight=None, warm_start=False, average=False, n_iter=None)\n",
    "\n",
    "# some of methods\n",
    "# fit(X, y[, coef_init, intercept_init, …])\tFit linear model with Stochastic Gradient Descent.\n",
    "# predict(X)\tPredict class labels for samples in X.\n",
    "\n",
    "#-------------------------------\n",
    "# video link: \n",
    "#------------------------------\n",
    "\n",
    "from tqdm import tqdm\n",
    "\n",
    "log_params = []\n",
    "for i in alpha:\n",
    "    log_params.append(math.log(i))\n",
    "\n",
    "log_error_array=[]\n",
    "for i in tqdm(alpha):\n",
    "    clf = SGDClassifier(alpha=i, penalty='l2', loss='log', random_state=42)\n",
    "    clf.fit(x_train, y_train)\n",
    "    sig_clf = CalibratedClassifierCV(clf, method=\"sigmoid\")\n",
    "    sig_clf.fit(x_train, y_train)\n",
    "    predict_y = sig_clf.predict_proba(x_test)\n",
    "    log_error_array.append(log_loss(y_test, predict_y, labels=clf.classes_, eps=1e-15))\n",
    "    print('For values of alpha = ', i, \"The log loss is:\",log_loss(y_test, predict_y, labels=clf.classes_, eps=1e-15))\n",
    "\n",
    "fig, ax = plt.subplots(figsize=(20,5))\n",
    "ax.plot(log_params, log_error_array,c='g')\n",
    "for i, txt in enumerate(np.round(log_error_array,3)):\n",
    "    ax.annotate((log_params[i],np.round(txt,3)), (log_params[i],log_error_array[i]))\n",
    "plt.grid()\n",
    "plt.title(\"Cross Validation Error for each alpha\")\n",
    "plt.xlabel(\"Log of Alpha i's\")\n",
    "plt.ylabel(\"Error measure\")\n",
    "plt.show()\n",
    "\n",
    "best_alpha = np.argmin(log_error_array)\n",
    "clf = SGDClassifier(alpha=alpha[best_alpha], penalty='l2', loss='log', random_state=42)\n",
    "clf.fit(x_train, y_train)\n",
    "sig_clf = CalibratedClassifierCV(clf, method=\"sigmoid\")\n",
    "sig_clf.fit(x_train, y_train)\n",
    "\n",
    "predict_y = sig_clf.predict_proba(x_train)\n",
    "print('For values of best alpha = ', alpha[best_alpha], \"The train log loss is:\",log_loss(y_train, predict_y, labels=clf.classes_, eps=1e-15))\n",
    "predict_y = sig_clf.predict_proba(x_test)\n",
    "print('For values of best alpha = ', alpha[best_alpha], \"The test log loss is:\",log_loss(y_test, predict_y, labels=clf.classes_, eps=1e-15))\n",
    "predicted_y =np.argmax(predict_y,axis=1)\n",
    "print(\"Total number of data points :\", len(predicted_y))\n",
    "plot_confusion_matrix(y_test, predicted_y)"
   ]
  },
  {
   "cell_type": "code",
   "execution_count": 0,
   "metadata": {
    "colab": {},
    "colab_type": "code",
    "id": "B-WQQFonUg_s"
   },
   "outputs": [],
   "source": [
    "import dill\n",
    "#dill.dump_session(\"drive/My Drive/Colab Notebooks/quora_sess.pckl\")\n",
    "dill.load_session(\"drive/My Drive/Colab Notebooks/quora_sess.pckl\")"
   ]
  },
  {
   "cell_type": "markdown",
   "metadata": {
    "colab_type": "text",
    "id": "kuNkfS4U94um"
   },
   "source": [
    "### 4.2 Linear SVM"
   ]
  },
  {
   "cell_type": "code",
   "execution_count": 0,
   "metadata": {
    "colab": {},
    "colab_type": "code",
    "id": "IqN7gbOLauez"
   },
   "outputs": [],
   "source": [
    "#https://datascience.stackexchange.com/questions/989/svm-using-scikit-learn-runs-endlessly-and-never-completes-execution\n",
    "\n",
    "#As MinMaxscaler and StandardScaler doesnot support sparse matrices, we are using MaxAbsScaler\n",
    "\n",
    "from sklearn.preprocessing import MaxAbsScaler\n",
    "\n",
    "scaling = MaxAbsScaler().fit(x_train)\n",
    "x_train = scaling.transform(x_train)\n",
    "x_test = scaling.transform(x_test)"
   ]
  },
  {
   "cell_type": "code",
   "execution_count": 3,
   "metadata": {
    "colab": {
     "base_uri": "https://localhost:8080/",
     "height": 126
    },
    "colab_type": "code",
    "id": "cvphWMaH94uo",
    "outputId": "ea371ba7-c2bc-4ffe-c3a8-708e6ce90713"
   },
   "outputs": [
    {
     "name": "stdout",
     "output_type": "stream",
     "text": [
      "For values of C =  0.0001 The log loss is: 9.00092099018136\n",
      "For values of C =  0.001 The log loss is: 8.916874688599997\n",
      "For values of C =  0.01 The log loss is: 8.30322227477376\n",
      "For values of C =  0.1 The log loss is: 8.203055718628379\n",
      "For values of C =  1 The log loss is: 8.76143745457051\n",
      "For values of C =  10 The log loss is: 9.07920552503395\n"
     ]
    }
   ],
   "source": [
    "C = [10 ** x for x in range(-4, 2)] # hyperparam for Linear SVM.\n",
    "\n",
    "import warnings\n",
    "warnings.filterwarnings('ignore', 'Solver terminated early.*')\n",
    "\n",
    "from sklearn.svm import SVC\n",
    "\n",
    "log_params = []\n",
    "for i in C:\n",
    "    log_params.append(math.log(i))\n",
    "\n",
    "log_error_array=[]\n",
    "for i in C:\n",
    "    clf = SVC(kernel='linear', C=i, max_iter=3000)\n",
    "    clf.fit(x_train, y_train)\n",
    "    sig_clf = CalibratedClassifierCV(clf, method=\"sigmoid\", cv=3)\n",
    "    sig_clf.fit(x_train, y_train)\n",
    "    predict_y = sig_clf.predict(x_test)\n",
    "    log_error_array.append(log_loss(y_test, predict_y, labels=clf.classes_, eps=1e-15))\n",
    "    print('For values of C = ', i, \"The log loss is:\",log_loss(y_test, predict_y, labels=clf.classes_, eps=1e-15))\n"
   ]
  },
  {
   "cell_type": "code",
   "execution_count": 4,
   "metadata": {
    "colab": {
     "base_uri": "https://localhost:8080/",
     "height": 719
    },
    "colab_type": "code",
    "id": "dgK3UHD6yHaV",
    "outputId": "4e2da22c-dc79-4bda-bd4a-62d794929dd5"
   },
   "outputs": [
    {
     "name": "stdout",
     "output_type": "stream",
     "text": [
      "6 6\n",
      "[-9.210340371976182, -6.907755278982137, -4.605170185988091, -2.3025850929940455, 0.0, 2.302585092994046]\n"
     ]
    },
    {
     "data": {
      "image/png": "[encoded data removed]",
      "text/plain": [
       "<Figure size 1440x360 with 1 Axes>"
      ]
     },
     "metadata": {
      "tags": []
     },
     "output_type": "display_data"
    },
    {
     "name": "stdout",
     "output_type": "stream",
     "text": [
      "For values of best C =  0.1 The train log loss is: 0.46789232139633063\n",
      "For values of best C =  0.1 The test log loss is: 0.47991953410792887\n",
      "Total number of data points : 30000\n"
     ]
    },
    {
     "data": {
      "image/png": "[encoded data removed]",
      "text/plain": [
       "<Figure size 1440x288 with 6 Axes>"
      ]
     },
     "metadata": {
      "tags": []
     },
     "output_type": "display_data"
    }
   ],
   "source": [
    "print(len(log_error_array), len(log_params))\n",
    "\n",
    "print(log_params)\n",
    "\n",
    "fig, ax = plt.subplots(figsize=(20,5))\n",
    "ax.plot(log_params, log_error_array, c='g')\n",
    "for i, txt in enumerate(np.round(log_error_array,3)):\n",
    "    ax.annotate((log_params[i],np.round(txt,3)), (log_params[i],log_error_array[i]))\n",
    "plt.grid()\n",
    "plt.title(\"Cross Validation Error for each C\")\n",
    "plt.xlabel(\"Log of C i's\")\n",
    "plt.ylabel(\"Error measure\")\n",
    "plt.show()\n",
    "\n",
    "best_C = np.argmin(log_error_array)\n",
    "clf = SVC(C=C[best_C], kernel='linear', max_iter=3000)\n",
    "clf.fit(x_train, y_train)\n",
    "sig_clf = CalibratedClassifierCV(clf, method=\"sigmoid\", cv=3)\n",
    "sig_clf.fit(x_train, y_train)\n",
    "\n",
    "predict_y = sig_clf.predict_proba(x_train)\n",
    "print('For values of best C = ', C[best_C], \"The train log loss is:\",log_loss(y_train, predict_y, labels=clf.classes_, eps=1e-15))\n",
    "predict_y = sig_clf.predict_proba(x_test)\n",
    "print('For values of best C = ', C[best_C], \"The test log loss is:\",log_loss(y_test, predict_y, labels=clf.classes_, eps=1e-15))\n",
    "predicted_y =np.argmax(predict_y,axis=1)\n",
    "print(\"Total number of data points :\", len(predicted_y))\n",
    "plot_confusion_matrix(y_test, predicted_y)"
   ]
  },
  {
   "cell_type": "markdown",
   "metadata": {
    "colab_type": "text",
    "id": "Hbx4JGBV94uu"
   },
   "source": [
    "### 4.3 XGBoost using RandomSearch"
   ]
  },
  {
   "cell_type": "code",
   "execution_count": 11,
   "metadata": {
    "colab": {
     "base_uri": "https://localhost:8080/",
     "height": 362
    },
    "colab_type": "code",
    "id": "Fa8CzI3P94u6",
    "outputId": "70764894-d932-47a8-88c9-bbf9aeab2530"
   },
   "outputs": [
    {
     "data": {
      "text/plain": [
       "RandomizedSearchCV(cv=3, error_score='raise-deprecating',\n",
       "                   estimator=XGBClassifier(base_score=0.5, booster='gbtree',\n",
       "                                           colsample_bylevel=1,\n",
       "                                           colsample_bynode=1,\n",
       "                                           colsample_bytree=1, gamma=0,\n",
       "                                           learning_rate=0.1, max_delta_step=0,\n",
       "                                           max_depth=3, min_child_weight=1,\n",
       "                                           missing=None, n_estimators=100,\n",
       "                                           n_jobs=1, nthread=None,\n",
       "                                           objective='binary:logistic',\n",
       "                                           random_state=0, reg_alpha=0...\n",
       "       434, 435, 436, 437, 438, 439, 440, 441, 442, 443, 444, 445, 446,\n",
       "       447, 448, 449, 450, 451, 452, 453, 454, 455, 456, 457, 458, 459,\n",
       "       460, 461, 462, 463, 464, 465, 466, 467, 468, 469, 470, 471, 472,\n",
       "       473, 474, 475, 476, 477, 478, 479, 480, 481, 482, 483, 484, 485,\n",
       "       486, 487, 488, 489, 490, 491, 492, 493, 494, 495, 496, 497, 498,\n",
       "       499])},\n",
       "                   pre_dispatch='2*n_jobs', random_state=None, refit=True,\n",
       "                   return_train_score=True, scoring='neg_log_loss', verbose=0)"
      ]
     },
     "execution_count": 11,
     "metadata": {
      "tags": []
     },
     "output_type": "execute_result"
    }
   ],
   "source": [
    "#https://stackabuse.com/cross-validation-and-grid-search-for-model-selection-in-python/\n",
    "#https://scikit-learn.org/stable/modules/generated/sklearn.model_selection.GridSearchCV.html\n",
    "\n",
    "from sklearn.model_selection import RandomizedSearchCV\n",
    "import xgboost as xgb\n",
    "\n",
    "#Initialising Classifier\n",
    "classifier = xgb.XGBClassifier()\n",
    "\n",
    "alpha_range= np.arange(5,500)\n",
    "parameters = {'n_estimators':alpha_range}\n",
    "#parameters = dict(n_neighbors=knn_range)\n",
    "\n",
    "#Training the model on train data\n",
    "XGB_tfidf = RandomizedSearchCV(classifier, parameters, n_iter=3, cv=3, scoring='neg_log_loss', n_jobs=-1, return_train_score=True)\n",
    "XGB_tfidf.fit(x_train, y_train)\n"
   ]
  },
  {
   "cell_type": "code",
   "execution_count": 22,
   "metadata": {
    "colab": {
     "base_uri": "https://localhost:8080/",
     "height": 353
    },
    "colab_type": "code",
    "id": "QiAKtyX894vB",
    "outputId": "a7d629ec-f124-44ef-df3b-5425a892111f"
   },
   "outputs": [
    {
     "name": "stdout",
     "output_type": "stream",
     "text": [
      "{'n_estimators': 376}\n",
      "{'mean_fit_time': array([101.88425914,  34.44643203,   5.29446936]), 'std_fit_time': array([0.81996803, 0.23335955, 0.04329103]), 'mean_score_time': array([0.84024175, 0.62163671, 0.54882272]), 'std_score_time': array([0.02134507, 0.00439325, 0.00744455]), 'param_n_estimators': masked_array(data=[376, 121, 14],\n",
      "             mask=[False, False, False],\n",
      "       fill_value='?',\n",
      "            dtype=object), 'params': [{'n_estimators': 376}, {'n_estimators': 121}, {'n_estimators': 14}], 'split0_test_score': array([-0.37318147, -0.39065504, -0.48167951]), 'split1_test_score': array([-0.36768504, -0.3848574 , -0.47928289]), 'split2_test_score': array([-0.37063197, -0.38755171, -0.47910127]), 'mean_test_score': array([-0.37049949, -0.38768805, -0.48002125]), 'std_test_score': array([0.00224589, 0.00236887, 0.00117493]), 'rank_test_score': array([1, 2, 3], dtype=int32), 'split0_train_score': array([-0.34638554, -0.37839963, -0.47766736]), 'split1_train_score': array([-0.34845806, -0.3815231 , -0.47972235]), 'split2_train_score': array([-0.34667062, -0.3797591 , -0.47921094]), 'mean_train_score': array([-0.3471714 , -0.37989394, -0.47886689]), 'std_train_score': array([0.00091721, 0.00127871, 0.00087351])} [-0.37049949 -0.38768805 -0.48002125]\n"
     ]
    },
    {
     "data": {
      "image/png": "[encoded data removed]",
      "text/plain": [
       "<Figure size 720x216 with 1 Axes>"
      ]
     },
     "metadata": {
      "tags": []
     },
     "output_type": "display_data"
    }
   ],
   "source": [
    "#https://matplotlib.org/api/_as_gen/matplotlib.pyplot.plot.html\n",
    "\n",
    "print(XGB_tfidf.best_params_) #Gives the best value of K from the given neighbor range\n",
    "print(XGB_tfidf.cv_results_, XGB_tfidf.cv_results_['mean_test_score'])\n",
    "\n",
    "params=[]\n",
    "\n",
    "for i in (XGB_tfidf.cv_results_['params'][0:3]):\n",
    "     params.append(i['n_estimators'])\n",
    "'''\n",
    "results=pd.DataFrame({'n_est':params,'mean_tr':GBDT_tfidf.cv_results_['mean_train_score'],'mean_te':GBDT_tfidf.cv_results_['mean_test_score']})\n",
    "\n",
    "print(results)\n",
    "'''\n",
    "plt.figure(figsize=(10,3))\n",
    "plt.plot(params,XGB_tfidf.cv_results_['mean_train_score'], label=\"Train\")\n",
    "plt.plot(params,XGB_tfidf.cv_results_['mean_test_score'], label=\"Test\")\n",
    "plt.title('Logloss Values for train and test datasets')\n",
    "plt.xlabel('n_estimator values')\n",
    "plt.ylabel('Logloss Values')\n",
    "plt.legend()\n",
    "plt.grid()\n",
    "plt.show()\n",
    "plt.close()"
   ]
  },
  {
   "cell_type": "code",
   "execution_count": 21,
   "metadata": {
    "colab": {
     "base_uri": "https://localhost:8080/",
     "height": 350
    },
    "colab_type": "code",
    "id": "VAxpfJO194vN",
    "outputId": "ce125d58-abea-4d43-a056-3e459ac0ef1c"
   },
   "outputs": [
    {
     "name": "stdout",
     "output_type": "stream",
     "text": [
      "For values of best n =  376 The train log loss is: 0.35345983628039374\n",
      "For values of best n =  376 The test log loss is: 0.36597825976484516\n",
      "Total number of data points : 30000\n"
     ]
    },
    {
     "data": {
      "image/png": "[encoded data removed]",
      "text/plain": [
       "<Figure size 1440x288 with 6 Axes>"
      ]
     },
     "metadata": {
      "tags": []
     },
     "output_type": "display_data"
    }
   ],
   "source": [
    "warnings.filterwarnings(\"ignore\")\n",
    "\n",
    "best_n = XGB_tfidf.best_params_['n_estimators']\n",
    "clf = xgb.XGBClassifier(n_estimators=376)\n",
    "clf.fit(x_train, y_train)\n",
    "sig_clf = CalibratedClassifierCV(clf, method=\"sigmoid\", cv=5)\n",
    "sig_clf.fit(x_train, y_train)\n",
    "\n",
    "predict_y = sig_clf.predict_proba(x_train)\n",
    "print('For values of best n = ', best_n, \"The train log loss is:\",log_loss(y_train, predict_y, labels=clf.classes_, eps=1e-15))\n",
    "predict_y = sig_clf.predict_proba(x_test)\n",
    "print('For values of best n = ', best_n, \"The test log loss is:\",log_loss(y_test, predict_y, labels=clf.classes_, eps=1e-15))\n",
    "predicted_y =np.argmax(predict_y,axis=1)\n",
    "print(\"Total number of data points :\", len(predicted_y))\n",
    "plot_confusion_matrix(y_test, predicted_y)"
   ]
  },
  {
   "cell_type": "markdown",
   "metadata": {
    "colab_type": "text",
    "id": "Q-6EuBrG94vT"
   },
   "source": [
    "# 5. Conclusions"
   ]
  },
  {
   "cell_type": "code",
   "execution_count": 24,
   "metadata": {
    "colab": {
     "base_uri": "https://localhost:8080/",
     "height": 144
    },
    "colab_type": "code",
    "id": "Zww2tHN694vW",
    "outputId": "5b19a6f6-ceb0-4089-e30c-7dafbfe03f9b"
   },
   "outputs": [
    {
     "name": "stdout",
     "output_type": "stream",
     "text": [
      "+------------+------------------------+----------------------+----------------+---------------+\n",
      "| Vectorizer |        ML Model        | Best Hyper parameter | Logloss(Train) | Logloss(Test) |\n",
      "+------------+------------------------+----------------------+----------------+---------------+\n",
      "|   TFIDF    |  Logistic Regression   |     alpha=0.0001     |     0.432      |     0.435     |\n",
      "|   TFIDF    |       Linear SVM       |        C=0.1         |     0.467      |     0.479     |\n",
      "|   TFIDF    | XGBoost(Random Search) |   n_estimators=376   |     0.353      |     0.365     |\n",
      "+------------+------------------------+----------------------+----------------+---------------+\n"
     ]
    }
   ],
   "source": [
    "#http://zetcode.com/python/prettytable/\n",
    "\n",
    "from prettytable import PrettyTable\n",
    "\n",
    "x = PrettyTable()\n",
    "\n",
    "x.field_names = [\"Vectorizer\", \"ML Model\", \"Best Hyper parameter\", \"Logloss(Train)\", \"Logloss(Test)\"]\n",
    "\n",
    "x.add_row([\"TFIDF\", \"Logistic Regression\", \"alpha=0.0001\", 0.432,0.435])\n",
    "x.add_row([\"TFIDF\", \"Linear SVM\", \"C=0.1\", 0.467,0.479])\n",
    "x.add_row([\"TFIDF\", \"XGBoost(Random Search)\", \"n_estimators=376\", 0.353,0.365])\n",
    "\n",
    "print(x)"
   ]
  },
  {
   "cell_type": "markdown",
   "metadata": {
    "colab_type": "text",
    "id": "LBf1ULj2gWn0"
   },
   "source": [
    "**Observation:**\n",
    "- XGBoost using Random Search has provided the minimum log loss both on test and train datasets.\n",
    "- The train and test times for XGBoost were significantly lower than Linear SVM."
   ]
  },
  {
   "cell_type": "markdown",
   "metadata": {
    "colab_type": "text",
    "id": "avVGDwZlZ1hI"
   },
   "source": [
    "**Implementation Steps :**\n",
    "\n",
    "1. Considered a total of 100k datapoints from the dataset, 50k from each class.\n",
    "2. Preprocessing steps:\n",
    "  *   Checked for any duplicate records based on question IDs\n",
    "  *   Checked for 'nan' values and replaced them with nulls\n",
    "  *   Expanded contracted words (Eg., Don't, Can't etc.,)\n",
    "3. Added basic and advanced features to the dataframe.\n",
    "4. Split the dataset in 70:30 ratio for train and test sets respectively.\n",
    "5. Vectorized questions 1 and 2 columns with TFIDF vetorizer.\n",
    "6. Logistic Regression:\n",
    "  * Trained SGD Classifier with log loss and l2 regularizer for various values of alpha(Hyperparameter)\n",
    "  * Log loss is captured for each value of alpha by comparing probabilities of train and test points\n",
    "  * The alpha with minimum log loss is taken and applied to train and test data\n",
    "  * Confusion, Precision and Recall matrices are plotted with the best alpha value\n",
    "7. Linear SVM:\n",
    "  *  Trained SVC Classifier with linear kernel for various values of C(Hyperparameter)\n",
    "  * Log loss is captured for each value of C by comparing probabilities of train and test points\n",
    "  * The C with minimum log loss is taken and applied to train and test data\n",
    "  * Confusion, Precision and Recall matrices are plotted with the best C value\n",
    "8. XGBoost:\n",
    "  * Trained XGBoost classifier using RandomizedSearch  for different values of 'n_estimators'.\n",
    "  * RandomSearch has 'neg_log_loss' instead of 'log_loss', so greater the value, better the performance\n",
    "  * After finding the best parameter, the log loss values for the best paramater values are calculate using CalibratedClassifier.\n",
    "  * Confusion, Precision and Recall matrices are plotted with the best 'n_estimator' value"
   ]
  }
 ],
 "metadata": {
  "colab": {
   "collapsed_sections": [],
   "name": "4.ML_models.ipynb",
   "provenance": [],
   "version": "0.3.2"
  },
  "kernelspec": {
   "display_name": "Python 3",
   "language": "python",
   "name": "python3"
  },
  "language_info": {
   "codemirror_mode": {
    "name": "ipython",
    "version": 3
   },
   "file_extension": ".py",
   "mimetype": "text/x-python",
   "name": "python",
   "nbconvert_exporter": "python",
   "pygments_lexer": "ipython3",
   "version": "3.7.0"
  }
 },
 "nbformat": 4,
 "nbformat_minor": 0
}
