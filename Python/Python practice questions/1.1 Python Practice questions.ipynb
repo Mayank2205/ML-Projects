{
 "cells": [
  {
   "cell_type": "code",
   "execution_count": 2,
   "metadata": {},
   "outputs": [
    {
     "name": "stdout",
     "output_type": "stream",
     "text": [
      "Enter an integer:e\n",
      "The entered input is not an integer. Please try again\n"
     ]
    }
   ],
   "source": [
    "# 1.Program to print the multiplication table of the entered integer\n",
    "\n",
    "import sys #imported for exception handling\n",
    "\n",
    "#function to print the multiplication table\n",
    "def multiply(par):\n",
    "    for i in range(10):\n",
    "        print(\"{0} * {2} = {1}\".format(par,par*(i+1),(i+1)))\n",
    "\n",
    "#Below snippet takes user input and checks if the input is valid integer and then calls the function\n",
    "try:\n",
    "    Input=int(input('Enter an integer:'))\n",
    "    multiply(Input)\n",
    "except ValueError:\n",
    "    print(\"The entered input is not an integer. Please try again\")"
   ]
  },
  {
   "cell_type": "code",
   "execution_count": 64,
   "metadata": {},
   "outputs": [
    {
     "name": "stdout",
     "output_type": "stream",
     "text": [
      "1 3\n",
      "3 5\n",
      "5 7\n",
      "7 9\n",
      "9 11\n",
      "11 13\n",
      "17 19\n",
      "23 25\n",
      "29 31\n",
      "41 43\n",
      "47 49\n",
      "59 61\n",
      "71 73\n",
      "101 103\n",
      "107 109\n",
      "137 139\n",
      "149 151\n",
      "167 169\n",
      "179 181\n",
      "191 193\n",
      "197 199\n",
      "227 229\n",
      "239 241\n",
      "269 271\n",
      "281 283\n",
      "311 313\n",
      "347 349\n",
      "359 361\n",
      "419 421\n",
      "431 433\n",
      "461 463\n",
      "521 523\n",
      "569 571\n",
      "599 601\n",
      "617 619\n",
      "641 643\n",
      "659 661\n",
      "809 811\n",
      "821 823\n",
      "827 829\n",
      "839 841\n",
      "857 859\n",
      "881 883\n"
     ]
    }
   ],
   "source": [
    "# 2.Program to print twin primes below 1000\n",
    "\n",
    "#Function to determine if a number is odd or not\n",
    "def odd(temp):\n",
    "    return False if (temp%2==0) else True\n",
    "\n",
    "#Function to determine if a number is prime or not\n",
    "#Returns True if the number is prime and false it isn't\n",
    "def prime(temp):\n",
    "    if temp>1:\n",
    "        flag=0\n",
    "        for i in range(2,temp):\n",
    "            if temp%i==0:\n",
    "                flag=flag+1\n",
    "            else:\n",
    "                flag\n",
    "        return False if flag>1 else True     \n",
    "    else:\n",
    "        return True\n",
    "\n",
    "num_list = list(range(1,1000)) #Creates a list with number from 1 to 1000\n",
    "#print(num_list)\n",
    "\n",
    "sort_list=sorted(list(filter(odd,num_list)),reverse=False) # Filters odd numbers and sorts the list in ascending order\n",
    "#print(sort_list[1])\n",
    "\n",
    "for indx,val in enumerate(sort_list):\n",
    "    #Boolean condition to check if consecutive odd numbers are prime or not\n",
    "    if prime(sort_list[indx]) and prime(sort_list[indx+1]):\n",
    "        print(sort_list[indx],sort_list[indx+1])\n"
   ]
  },
  {
   "cell_type": "code",
   "execution_count": 63,
   "metadata": {},
   "outputs": [
    {
     "name": "stdout",
     "output_type": "stream",
     "text": [
      "Enter a number:315\n",
      "[3, 3, 5, 7]\n"
     ]
    }
   ],
   "source": [
    "# 3.Print prime factors of a number\n",
    "\n",
    "#Function to find the factors of n\n",
    "def factors(temp,Input):\n",
    "    List=[]\n",
    "    for i in range(temp,Input+1):\n",
    "        while Input%i == 0:\n",
    "            List.append(i)\n",
    "            Input=Input//i\n",
    "    return List\n",
    "\n",
    "Input=int(input('Enter a number:')) #User input\n",
    "result=factors(2,Input)\n",
    "print(result)"
   ]
  },
  {
   "cell_type": "code",
   "execution_count": 91,
   "metadata": {},
   "outputs": [
    {
     "name": "stdout",
     "output_type": "stream",
     "text": [
      "Enter number of objects:4\n",
      "Enter number of selections:3\n",
      "No. of Permutations of 4 objects taken 3 at a time:24\n",
      "No. of Combinations of 4 objects taken 3 at a time: 4\n"
     ]
    }
   ],
   "source": [
    "# 4.Program to print permutations and combinations of the given numbers\n",
    "\n",
    "def factorial(num):\n",
    "    result=1\n",
    "    for i in range(num,1,-1):\n",
    "        result=result*i\n",
    "        num=num-1\n",
    "    return result\n",
    "\n",
    "n=int(input('Enter number of objects:')) #User input\n",
    "r=int(input('Enter number of selections:')) #User input\n",
    "npr=int(factorial(n)/factorial(n-r))\n",
    "\n",
    "print('No. of Permutations of {} objects taken {} at a time:{}'.format(n,r,npr))\n",
    "print('No. of Combinations of {} objects taken {} at a time:'.format(n,r),int((npr)/factorial(r)))\n"
   ]
  },
  {
   "cell_type": "code",
   "execution_count": 107,
   "metadata": {},
   "outputs": [
    {
     "name": "stdout",
     "output_type": "stream",
     "text": [
      "Enter a number:44\n",
      "101100\n"
     ]
    }
   ],
   "source": [
    "# 5.Program to convert decimal to binary\n",
    "\n",
    "#function to convert decimal to binary list\n",
    "def dtob(num):\n",
    "    binary=[]\n",
    "    while num>1:\n",
    "        binary.append(int(num%2))\n",
    "        num=num/2\n",
    "    binary.reverse() #reverses the elements of the list\n",
    "    return binary\n",
    "\n",
    "num=int(input('Enter a number:')) #User input\n",
    "List=dtob(num)\n",
    "\n",
    "#Convert list to string\n",
    "print(''.join(str(i) for i in List))\n"
   ]
  },
  {
   "cell_type": "code",
   "execution_count": 12,
   "metadata": {},
   "outputs": [
    {
     "name": "stdout",
     "output_type": "stream",
     "text": [
      "Enter a number:371\n",
      "The number 371 is an armstrong number\n",
      "The cubesum of the number 371 is 371\n"
     ]
    },
    {
     "data": {
      "text/plain": [
       "371"
      ]
     },
     "execution_count": 12,
     "metadata": {},
     "output_type": "execute_result"
    }
   ],
   "source": [
    "# 6.Program to calculate cubesum and find armstrong number\n",
    "\n",
    "#function to calculate the cubesum of the entered number\n",
    "def cubesum(val):\n",
    "    result=0\n",
    "    o_val=val\n",
    "    while val>0:\n",
    "        result=(val%10)**3+result\n",
    "        val=int(val/10)\n",
    "    isArmstrong(o_val,result) #function call for isArmstrong\n",
    "    PrintArmstrong(o_val,result) #function call for PrintArmstrong\n",
    "    return result\n",
    "\n",
    "#function to check if the entered value and the cubesum result are equal\n",
    "def isArmstrong(actual_val,cubesum_val):\n",
    "    if actual_val == cubesum_val:\n",
    "        print('The number {} is an armstrong number'.format(actual_val))\n",
    "    else:\n",
    "        print('The number {} is not an armstrong number'.format(actual_val))\n",
    "\n",
    "#function to print armstrong number\n",
    "def PrintArmstrong(actual_val,cubesum_val):\n",
    "    print('The cubesum of the number {} is {}'.format(actual_val,cubesum_val))\n",
    "        \n",
    "Input=int(input('Enter a number:'))\n",
    "cubesum(Input)"
   ]
  },
  {
   "cell_type": "code",
   "execution_count": 10,
   "metadata": {},
   "outputs": [
    {
     "name": "stdout",
     "output_type": "stream",
     "text": [
      "Enter a number:543\n",
      "60\n"
     ]
    }
   ],
   "source": [
    "# 7.program to calculate product of entered digits\n",
    "\n",
    "def prodDigits(val):\n",
    "    result=1\n",
    "    while val>0:\n",
    "        result=(result*(val%10))\n",
    "        val=int(val/10)\n",
    "    return result\n",
    "\n",
    "val=int(input('Enter a number:'))\n",
    "print(prodDigits(val))\n"
   ]
  },
  {
   "cell_type": "code",
   "execution_count": 9,
   "metadata": {},
   "outputs": [
    {
     "name": "stdout",
     "output_type": "stream",
     "text": [
      "Enter a number:341\n",
      "MDR:2\n",
      "MPersistence:2\n"
     ]
    }
   ],
   "source": [
    "# 8.Programt to find the MDR and MPersistence\n",
    "\n",
    "#function to calculate the product of digits of a number\n",
    "def prodDigits(val):\n",
    "    result=1\n",
    "    while val>0:\n",
    "        result=(result*(val%10))\n",
    "        val=int(val/10)\n",
    "    return result\n",
    "\n",
    "#function to loop MDR calculation\n",
    "def MDR(val):\n",
    "    while val>9:\n",
    "        result=prodDigits(val)\n",
    "        val=result\n",
    "    return result\n",
    "\n",
    "#function to calculate the number of iterations\n",
    "def MPersistence(val):\n",
    "    counter=0\n",
    "    while val>9:\n",
    "        result=prodDigits(val)\n",
    "        val=result\n",
    "        counter+=1\n",
    "    return counter\n",
    "\n",
    "\n",
    "Input=int(input('Enter a number:')) #user input\n",
    "print('MDR:{}'.format(MDR(Input)))\n",
    "print('MPersistence:{}'.format(MPersistence(Input)))\n"
   ]
  },
  {
   "cell_type": "code",
   "execution_count": 32,
   "metadata": {},
   "outputs": [
    {
     "name": "stdout",
     "output_type": "stream",
     "text": [
      "Enter a number:36\n",
      "Sum of all proper divisors of 36 is: 55\n"
     ]
    }
   ],
   "source": [
    "# 9. Program to print sum of proper divisors of a number\n",
    "\n",
    "#function calculates the sum of proper divisors of the entered value and returns the result\n",
    "def sumPdivisors(val):\n",
    "    result=0\n",
    "    for i in range(1,val):\n",
    "        if val%i == 0:\n",
    "            result+=i\n",
    "    return result\n",
    "    \n",
    "Input=int(input('Enter a number:')) #user input\n",
    "print('Sum of all proper divisors of {} is:'.format(Input),sumPdivisors(Input))\n",
    "\n"
   ]
  },
  {
   "cell_type": "code",
   "execution_count": 34,
   "metadata": {},
   "outputs": [
    {
     "name": "stdout",
     "output_type": "stream",
     "text": [
      "Enter start of the range:1\n",
      "Enter end of the range:1000\n",
      "Below are the perfect numbers between 1 and 1000:\n",
      "6\n",
      "28\n",
      "496\n"
     ]
    }
   ],
   "source": [
    "# 10.Program to print all perfect number in a range\n",
    "\n",
    "#function prints all the values that are perfect numbers\n",
    "def sumPdivisors(start,end):\n",
    "    for i in range(start,end):\n",
    "        result=0\n",
    "        for j in range(1,i):\n",
    "            if i%j == 0:\n",
    "                result+=j\n",
    "        if i==result:\n",
    "            print(i)\n",
    "\n",
    "#User input\n",
    "start=int(input('Enter start of the range:'))\n",
    "end=int(input('Enter end of the range:'))\n",
    "\n",
    "print('Below are the perfect numbers between {} and {}:'.format(start,end))\n",
    "sumPdivisors(start,end) #function call\n",
    "\n"
   ]
  },
  {
   "cell_type": "code",
   "execution_count": 60,
   "metadata": {},
   "outputs": [
    {
     "name": "stdout",
     "output_type": "stream",
     "text": [
      "Enter start of the range:1\n",
      "Enter end of the range:1000\n",
      "220 284\n"
     ]
    }
   ],
   "source": [
    "# 11.Program to print amicable numbers in a range\n",
    "\n",
    "#function creates a dictionary of all the values that are not perfect numbers\n",
    "def sumPdivisors(start,end):\n",
    "    dic={}\n",
    "    for i in range(start,end):\n",
    "        result=0\n",
    "        for j in range(1,i):\n",
    "            if i%j == 0:\n",
    "                result+=j\n",
    "        if i!=result:\n",
    "            dic[i]=result\n",
    "    return dic\n",
    "\n",
    "#function creates a copy of the above created dictionary and compares both the dictionaries for matching values\n",
    "def amicable(dic):\n",
    "    dic1=dic.copy()\n",
    "    for k1,v1 in dic.items():\n",
    "        for k2,v2 in dic1.items():\n",
    "            if k1==v2 and k2==v1:\n",
    "                print(k1,v1)\n",
    "                dic1[k1]=0\n",
    "\n",
    "#user input for start and end ranges\n",
    "start=int(input('Enter start of the range:'))\n",
    "end=int(input('Enter end of the range:'))\n",
    "\n",
    "dic=sumPdivisors(start,end) #stores all the numbers that are not perfect in a dictionary, 'dic'\n",
    "amicable(dic) #function call \n"
   ]
  },
  {
   "cell_type": "code",
   "execution_count": 70,
   "metadata": {},
   "outputs": [
    {
     "name": "stdout",
     "output_type": "stream",
     "text": [
      "Enter comma seperated number as input1,2,23,23,24,5,345,346,457,567,563\n",
      "[1, 23, 23, 5, 345, 457, 567, 563]\n"
     ]
    }
   ],
   "source": [
    "# 12.program to find odd numbers in a list using filter function\n",
    "\n",
    "#Function to determine if a number is odd or not\n",
    "def odd(temp):\n",
    "    return False if (temp%2==0) else True\n",
    "\n",
    "Input=[int(i) for i in input('Enter comma seperated numbers as input').split(',')]\n",
    "print(list(filter(odd,Input)))\n"
   ]
  },
  {
   "cell_type": "code",
   "execution_count": 71,
   "metadata": {},
   "outputs": [
    {
     "name": "stdout",
     "output_type": "stream",
     "text": [
      "Enter comma seperated number as input1,2,3,4,5,6,7,8\n",
      "[1, 8, 27, 64, 125, 216, 343, 512]\n"
     ]
    }
   ],
   "source": [
    "# 13.program to print the cubes of elements in a given list\n",
    "\n",
    "def cube(val):\n",
    "    return val**3\n",
    "\n",
    "Input=[int(i) for i in input('Enter comma seperated numbers as input').split(',')]\n",
    "print(list(map(cube,Input)))"
   ]
  },
  {
   "cell_type": "code",
   "execution_count": 74,
   "metadata": {},
   "outputs": [
    {
     "name": "stdout",
     "output_type": "stream",
     "text": [
      "Enter comma seperated numbers as input1,2,3,4,5,6,7,8,9,10\n",
      "[8, 64, 216, 512, 1000]\n"
     ]
    }
   ],
   "source": [
    "# 14.Program to print the cubes of even numbers in a given list\n",
    "\n",
    "def cube(val):\n",
    "    return val**3\n",
    "\n",
    "def even(val):\n",
    "    return True if val%2==0 else False\n",
    "\n",
    "Input=[int(i) for i in input('Enter comma seperated numbers as input').split(',')]\n",
    "print(list(map(cube,filter(even,Input))))"
   ]
  },
  {
   "cell_type": "code",
   "execution_count": null,
   "metadata": {},
   "outputs": [],
   "source": []
  }
 ],
 "metadata": {
  "kernelspec": {
   "display_name": "Python 3",
   "language": "python",
   "name": "python3"
  },
  "language_info": {
   "codemirror_mode": {
    "name": "ipython",
    "version": 3
   },
   "file_extension": ".py",
   "mimetype": "text/x-python",
   "name": "python",
   "nbconvert_exporter": "python",
   "pygments_lexer": "ipython3",
   "version": "3.7.0"
  }
 },
 "nbformat": 4,
 "nbformat_minor": 2
}
